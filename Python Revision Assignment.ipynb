{
  "nbformat": 4,
  "nbformat_minor": 0,
  "metadata": {
    "colab": {
      "name": "Module 1 Revision Assignment.ipynb",
      "provenance": [],
      "collapsed_sections": []
    },
    "kernelspec": {
      "name": "python3",
      "display_name": "Python 3"
    },
    "language_info": {
      "name": "python"
    }
  },
  "cells": [
    {
      "cell_type": "markdown",
      "source": [
        "### About the dataset\n",
        "Housing dataset contains the information of the properties sold in the city of \"Nashville\" over a sapn of 40 years. It contains all the necessary information like the area of the property, amount it was sold for, number of rooms that the property has etc. Our aim is to find some interesting insights from the data.\n",
        "\n",
        "### Loading data\n",
        "1. Import the \"housing\" data using appropriate functions.\n",
        "\n",
        "\n",
        "### Cleaning data\n",
        "1. Replace the missing values with appropriate approximations\n",
        "2. Rename the columns to better suited names\n",
        "3. Extract the month and year from the sale date.\n",
        "4. Extract the pin number from the property address\n",
        "\n",
        "\n",
        "### EDA\n",
        "Use appropriate plots and functions to answer the following questions.\n",
        "\n",
        "1. How has the price of properties changed over the years\n",
        "2. Does a specific month or span of months have the highest property prices?\n",
        "3. For what purpose were the properties generally purchased?\n",
        "4. What is the average age of the properties?\n",
        "5. Have the age of houses affected the price?\n",
        "6. Have the number of rooms in the house affected the price?\n",
        "7. Does the size of the property (no. of acres) have any influence in its price?\n",
        "8. Are houses located in specific pin numbers expensive over the others?\n",
        "9. How have house prices changed in the 21st centuary as supposed to 20th centuary. "
      ],
      "metadata": {
        "id": "NjbHOSgzaN1h"
      }
    },
    {
      "cell_type": "markdown",
      "source": [
        "**IMPORTING LIBRARIES**"
      ],
      "metadata": {
        "id": "e3SJX_CJ2h-F"
      }
    },
    {
      "cell_type": "code",
      "source": [
        "import numpy as np\n",
        "import pandas as pd\n",
        "import matplotlib.pyplot as plt\n",
        "import seaborn as sns\n",
        "import math\n",
        "sns.set(color_codes=True)"
      ],
      "metadata": {
        "id": "4W53T1s6Y3IN"
      },
      "execution_count": 92,
      "outputs": []
    },
    {
      "cell_type": "markdown",
      "source": [
        "**LOADING DATA**"
      ],
      "metadata": {
        "id": "9FOhV6x_EZnX"
      }
    },
    {
      "cell_type": "markdown",
      "source": [
        "In order to load the data, we will use the pandas library and particularly the 'read_excel' method."
      ],
      "metadata": {
        "id": "VQfrDfMQG-y_"
      }
    },
    {
      "cell_type": "code",
      "source": [
        "data = pd.read_excel('Housing.xlsx')\n",
        "data.head()"
      ],
      "metadata": {
        "id": "7XQ0REu54dls",
        "colab": {
          "base_uri": "https://localhost:8080/",
          "height": 337
        },
        "outputId": "7ea2fd35-3656-4321-ca8a-983f8cfbdd1b"
      },
      "execution_count": 93,
      "outputs": [
        {
          "output_type": "execute_result",
          "data": {
            "text/plain": [
              "   UniqueID         LandUse                     PropertyAddress   SaleDate  \\\n",
              "0       2045  SINGLE FAMILY  1808  FOX CHASE DR, GOODLETTSVILLE 2013-04-09   \n",
              "1      16918  SINGLE FAMILY  1832  FOX CHASE DR, GOODLETTSVILLE 2014-06-10   \n",
              "2      54582  SINGLE FAMILY  1864 FOX CHASE  DR, GOODLETTSVILLE 2016-09-26   \n",
              "3      43070  SINGLE FAMILY  1853  FOX CHASE DR, GOODLETTSVILLE 2016-01-29   \n",
              "4      22714  SINGLE FAMILY  1829  FOX CHASE DR, GOODLETTSVILLE 2014-10-10   \n",
              "\n",
              "   SalePrice  Acre  LandValue  BuildingValue  TotalValue  YearBuilt  Bedrooms  \\\n",
              "0     240000   2.3    50000.0       168200.0    235700.0     1986.0       3.0   \n",
              "1     366000   3.5    50000.0       264100.0    319000.0     1998.0       3.0   \n",
              "2     435000   2.9    50000.0       216200.0    298000.0     1987.0       4.0   \n",
              "3     255000   2.6    50000.0       147300.0    197300.0     1985.0       3.0   \n",
              "4     278000   2.0    50000.0       152300.0    202300.0     1984.0       4.0   \n",
              "\n",
              "   FullBath  HalfBath  \n",
              "0       3.0       0.0  \n",
              "1       3.0       2.0  \n",
              "2       3.0       0.0  \n",
              "3       3.0       0.0  \n",
              "4       3.0       0.0  "
            ],
            "text/html": [
              "\n",
              "  <div id=\"df-33dbc582-b47f-41aa-9fee-c7da4f7920bf\">\n",
              "    <div class=\"colab-df-container\">\n",
              "      <div>\n",
              "<style scoped>\n",
              "    .dataframe tbody tr th:only-of-type {\n",
              "        vertical-align: middle;\n",
              "    }\n",
              "\n",
              "    .dataframe tbody tr th {\n",
              "        vertical-align: top;\n",
              "    }\n",
              "\n",
              "    .dataframe thead th {\n",
              "        text-align: right;\n",
              "    }\n",
              "</style>\n",
              "<table border=\"1\" class=\"dataframe\">\n",
              "  <thead>\n",
              "    <tr style=\"text-align: right;\">\n",
              "      <th></th>\n",
              "      <th>UniqueID</th>\n",
              "      <th>LandUse</th>\n",
              "      <th>PropertyAddress</th>\n",
              "      <th>SaleDate</th>\n",
              "      <th>SalePrice</th>\n",
              "      <th>Acre</th>\n",
              "      <th>LandValue</th>\n",
              "      <th>BuildingValue</th>\n",
              "      <th>TotalValue</th>\n",
              "      <th>YearBuilt</th>\n",
              "      <th>Bedrooms</th>\n",
              "      <th>FullBath</th>\n",
              "      <th>HalfBath</th>\n",
              "    </tr>\n",
              "  </thead>\n",
              "  <tbody>\n",
              "    <tr>\n",
              "      <th>0</th>\n",
              "      <td>2045</td>\n",
              "      <td>SINGLE FAMILY</td>\n",
              "      <td>1808  FOX CHASE DR, GOODLETTSVILLE</td>\n",
              "      <td>2013-04-09</td>\n",
              "      <td>240000</td>\n",
              "      <td>2.3</td>\n",
              "      <td>50000.0</td>\n",
              "      <td>168200.0</td>\n",
              "      <td>235700.0</td>\n",
              "      <td>1986.0</td>\n",
              "      <td>3.0</td>\n",
              "      <td>3.0</td>\n",
              "      <td>0.0</td>\n",
              "    </tr>\n",
              "    <tr>\n",
              "      <th>1</th>\n",
              "      <td>16918</td>\n",
              "      <td>SINGLE FAMILY</td>\n",
              "      <td>1832  FOX CHASE DR, GOODLETTSVILLE</td>\n",
              "      <td>2014-06-10</td>\n",
              "      <td>366000</td>\n",
              "      <td>3.5</td>\n",
              "      <td>50000.0</td>\n",
              "      <td>264100.0</td>\n",
              "      <td>319000.0</td>\n",
              "      <td>1998.0</td>\n",
              "      <td>3.0</td>\n",
              "      <td>3.0</td>\n",
              "      <td>2.0</td>\n",
              "    </tr>\n",
              "    <tr>\n",
              "      <th>2</th>\n",
              "      <td>54582</td>\n",
              "      <td>SINGLE FAMILY</td>\n",
              "      <td>1864 FOX CHASE  DR, GOODLETTSVILLE</td>\n",
              "      <td>2016-09-26</td>\n",
              "      <td>435000</td>\n",
              "      <td>2.9</td>\n",
              "      <td>50000.0</td>\n",
              "      <td>216200.0</td>\n",
              "      <td>298000.0</td>\n",
              "      <td>1987.0</td>\n",
              "      <td>4.0</td>\n",
              "      <td>3.0</td>\n",
              "      <td>0.0</td>\n",
              "    </tr>\n",
              "    <tr>\n",
              "      <th>3</th>\n",
              "      <td>43070</td>\n",
              "      <td>SINGLE FAMILY</td>\n",
              "      <td>1853  FOX CHASE DR, GOODLETTSVILLE</td>\n",
              "      <td>2016-01-29</td>\n",
              "      <td>255000</td>\n",
              "      <td>2.6</td>\n",
              "      <td>50000.0</td>\n",
              "      <td>147300.0</td>\n",
              "      <td>197300.0</td>\n",
              "      <td>1985.0</td>\n",
              "      <td>3.0</td>\n",
              "      <td>3.0</td>\n",
              "      <td>0.0</td>\n",
              "    </tr>\n",
              "    <tr>\n",
              "      <th>4</th>\n",
              "      <td>22714</td>\n",
              "      <td>SINGLE FAMILY</td>\n",
              "      <td>1829  FOX CHASE DR, GOODLETTSVILLE</td>\n",
              "      <td>2014-10-10</td>\n",
              "      <td>278000</td>\n",
              "      <td>2.0</td>\n",
              "      <td>50000.0</td>\n",
              "      <td>152300.0</td>\n",
              "      <td>202300.0</td>\n",
              "      <td>1984.0</td>\n",
              "      <td>4.0</td>\n",
              "      <td>3.0</td>\n",
              "      <td>0.0</td>\n",
              "    </tr>\n",
              "  </tbody>\n",
              "</table>\n",
              "</div>\n",
              "      <button class=\"colab-df-convert\" onclick=\"convertToInteractive('df-33dbc582-b47f-41aa-9fee-c7da4f7920bf')\"\n",
              "              title=\"Convert this dataframe to an interactive table.\"\n",
              "              style=\"display:none;\">\n",
              "        \n",
              "  <svg xmlns=\"http://www.w3.org/2000/svg\" height=\"24px\"viewBox=\"0 0 24 24\"\n",
              "       width=\"24px\">\n",
              "    <path d=\"M0 0h24v24H0V0z\" fill=\"none\"/>\n",
              "    <path d=\"M18.56 5.44l.94 2.06.94-2.06 2.06-.94-2.06-.94-.94-2.06-.94 2.06-2.06.94zm-11 1L8.5 8.5l.94-2.06 2.06-.94-2.06-.94L8.5 2.5l-.94 2.06-2.06.94zm10 10l.94 2.06.94-2.06 2.06-.94-2.06-.94-.94-2.06-.94 2.06-2.06.94z\"/><path d=\"M17.41 7.96l-1.37-1.37c-.4-.4-.92-.59-1.43-.59-.52 0-1.04.2-1.43.59L10.3 9.45l-7.72 7.72c-.78.78-.78 2.05 0 2.83L4 21.41c.39.39.9.59 1.41.59.51 0 1.02-.2 1.41-.59l7.78-7.78 2.81-2.81c.8-.78.8-2.07 0-2.86zM5.41 20L4 18.59l7.72-7.72 1.47 1.35L5.41 20z\"/>\n",
              "  </svg>\n",
              "      </button>\n",
              "      \n",
              "  <style>\n",
              "    .colab-df-container {\n",
              "      display:flex;\n",
              "      flex-wrap:wrap;\n",
              "      gap: 12px;\n",
              "    }\n",
              "\n",
              "    .colab-df-convert {\n",
              "      background-color: #E8F0FE;\n",
              "      border: none;\n",
              "      border-radius: 50%;\n",
              "      cursor: pointer;\n",
              "      display: none;\n",
              "      fill: #1967D2;\n",
              "      height: 32px;\n",
              "      padding: 0 0 0 0;\n",
              "      width: 32px;\n",
              "    }\n",
              "\n",
              "    .colab-df-convert:hover {\n",
              "      background-color: #E2EBFA;\n",
              "      box-shadow: 0px 1px 2px rgba(60, 64, 67, 0.3), 0px 1px 3px 1px rgba(60, 64, 67, 0.15);\n",
              "      fill: #174EA6;\n",
              "    }\n",
              "\n",
              "    [theme=dark] .colab-df-convert {\n",
              "      background-color: #3B4455;\n",
              "      fill: #D2E3FC;\n",
              "    }\n",
              "\n",
              "    [theme=dark] .colab-df-convert:hover {\n",
              "      background-color: #434B5C;\n",
              "      box-shadow: 0px 1px 3px 1px rgba(0, 0, 0, 0.15);\n",
              "      filter: drop-shadow(0px 1px 2px rgba(0, 0, 0, 0.3));\n",
              "      fill: #FFFFFF;\n",
              "    }\n",
              "  </style>\n",
              "\n",
              "      <script>\n",
              "        const buttonEl =\n",
              "          document.querySelector('#df-33dbc582-b47f-41aa-9fee-c7da4f7920bf button.colab-df-convert');\n",
              "        buttonEl.style.display =\n",
              "          google.colab.kernel.accessAllowed ? 'block' : 'none';\n",
              "\n",
              "        async function convertToInteractive(key) {\n",
              "          const element = document.querySelector('#df-33dbc582-b47f-41aa-9fee-c7da4f7920bf');\n",
              "          const dataTable =\n",
              "            await google.colab.kernel.invokeFunction('convertToInteractive',\n",
              "                                                     [key], {});\n",
              "          if (!dataTable) return;\n",
              "\n",
              "          const docLinkHtml = 'Like what you see? Visit the ' +\n",
              "            '<a target=\"_blank\" href=https://colab.research.google.com/notebooks/data_table.ipynb>data table notebook</a>'\n",
              "            + ' to learn more about interactive tables.';\n",
              "          element.innerHTML = '';\n",
              "          dataTable['output_type'] = 'display_data';\n",
              "          await google.colab.output.renderOutput(dataTable, element);\n",
              "          const docLink = document.createElement('div');\n",
              "          docLink.innerHTML = docLinkHtml;\n",
              "          element.appendChild(docLink);\n",
              "        }\n",
              "      </script>\n",
              "    </div>\n",
              "  </div>\n",
              "  "
            ]
          },
          "metadata": {},
          "execution_count": 93
        }
      ]
    },
    {
      "cell_type": "markdown",
      "source": [
        "**CLEANING DATA**"
      ],
      "metadata": {
        "id": "zMI27Q5bEiGy"
      }
    },
    {
      "cell_type": "markdown",
      "source": [
        "The major goal of cleaning data is to ensure that all the null values are either eliminated or replaced so as to ensure that the data is fit for analysis. "
      ],
      "metadata": {
        "id": "rwtitUr_Hd4X"
      }
    },
    {
      "cell_type": "code",
      "source": [
        "data.isnull().sum()"
      ],
      "metadata": {
        "id": "q6alZgFzD0aG",
        "colab": {
          "base_uri": "https://localhost:8080/"
        },
        "outputId": "60294f29-caf8-4ee1-acc3-33f8ff5bb41a"
      },
      "execution_count": 94,
      "outputs": [
        {
          "output_type": "execute_result",
          "data": {
            "text/plain": [
              "UniqueID               0\n",
              "LandUse                0\n",
              "PropertyAddress       29\n",
              "SaleDate               0\n",
              "SalePrice              0\n",
              "Acre               30462\n",
              "LandValue          30462\n",
              "BuildingValue      30462\n",
              "TotalValue         30462\n",
              "YearBuilt          32314\n",
              "Bedrooms           32320\n",
              "FullBath           32202\n",
              "HalfBath           32333\n",
              "dtype: int64"
            ]
          },
          "metadata": {},
          "execution_count": 94
        }
      ]
    },
    {
      "cell_type": "markdown",
      "source": [
        "**1. Replace the missing values with appropriate approximations**"
      ],
      "metadata": {
        "id": "DVDO9kGVMZbq"
      }
    },
    {
      "cell_type": "markdown",
      "source": [
        "Here we are filling all of the null values, with the mean value of their corresponding columns. "
      ],
      "metadata": {
        "id": "_ZaTighuHt2r"
      }
    },
    {
      "cell_type": "code",
      "source": [
        "data['Acre']=data[\"Acre\"].fillna(np.mean(data[\"Acre\"]))\n",
        "data['LandValue']=data[\"LandValue\"].fillna(np.mean(data[\"LandValue\"]))\n",
        "data['BuildingValue']=data[\"BuildingValue\"].fillna(np.mean(data[\"BuildingValue\"]))\n",
        "data['TotalValue']=data[\"TotalValue\"].fillna(np.mean(data[\"TotalValue\"]))\n",
        "data['YearBuilt']=data[\"YearBuilt\"].fillna(np.mean(data[\"YearBuilt\"]))\n",
        "data['Bedrooms']=data[\"Bedrooms\"].fillna(np.mean(data[\"Bedrooms\"]))\n",
        "data['FullBath']=data[\"FullBath\"].fillna(np.mean(data[\"FullBath\"]))\n",
        "data['HalfBath']=data[\"HalfBath\"].fillna(np.mean(data[\"HalfBath\"]))\n",
        "data"
      ],
      "metadata": {
        "id": "xNiWG1BeirlP",
        "colab": {
          "base_uri": "https://localhost:8080/",
          "height": 835
        },
        "outputId": "cd16b1fa-72c6-48c2-b4f5-654ba54c95f4"
      },
      "execution_count": 95,
      "outputs": [
        {
          "output_type": "execute_result",
          "data": {
            "text/plain": [
              "       UniqueID                   LandUse  \\\n",
              "0           2045            SINGLE FAMILY   \n",
              "1          16918            SINGLE FAMILY   \n",
              "2          54582            SINGLE FAMILY   \n",
              "3          43070            SINGLE FAMILY   \n",
              "4          22714            SINGLE FAMILY   \n",
              "...          ...                      ...   \n",
              "56472      30469            SINGLE FAMILY   \n",
              "56473      27707            SINGLE FAMILY   \n",
              "56474      52709  VACANT RESIDENTIAL LAND   \n",
              "56475      54042  VACANT RESIDENTIAL LAND   \n",
              "56476      54043  VACANT RESIDENTIAL LAND   \n",
              "\n",
              "                           PropertyAddress   SaleDate  SalePrice      Acre  \\\n",
              "0       1808  FOX CHASE DR, GOODLETTSVILLE 2013-04-09     240000  2.300000   \n",
              "1       1832  FOX CHASE DR, GOODLETTSVILLE 2014-06-10     366000  3.500000   \n",
              "2       1864 FOX CHASE  DR, GOODLETTSVILLE 2016-09-26     435000  2.900000   \n",
              "3       1853  FOX CHASE DR, GOODLETTSVILLE 2016-01-29     255000  2.600000   \n",
              "4       1829  FOX CHASE DR, GOODLETTSVILLE 2014-10-10     278000  2.000000   \n",
              "...                                    ...        ...        ...       ...   \n",
              "56472  1435  WINDING CREEK DR, NOLENSVILLE 2015-05-27     157500  0.498923   \n",
              "56473  1423  WINDING CREEK DR, NOLENSVILLE 2015-03-02     145000  0.498923   \n",
              "56474    1804 GRACE POINT  LN, NOLENSVILLE 2016-08-16     234611  0.498923   \n",
              "56475   1709 PARK TERRACE  LN, NOLENSVILLE 2016-09-07      93844  0.498923   \n",
              "56476   1713 PARK TERRACE  LN, NOLENSVILLE 2016-09-07      93844  0.498923   \n",
              "\n",
              "          LandValue  BuildingValue     TotalValue    YearBuilt  Bedrooms  \\\n",
              "0      50000.000000  168200.000000  235700.000000  1986.000000  3.000000   \n",
              "1      50000.000000  264100.000000  319000.000000  1998.000000  3.000000   \n",
              "2      50000.000000  216200.000000  298000.000000  1987.000000  4.000000   \n",
              "3      50000.000000  147300.000000  197300.000000  1985.000000  3.000000   \n",
              "4      50000.000000  152300.000000  202300.000000  1984.000000  4.000000   \n",
              "...             ...            ...            ...          ...       ...   \n",
              "56472  69068.557601  160784.677109  232375.398847  1963.744899  3.089912   \n",
              "56473  69068.557601  160784.677109  232375.398847  1963.744899  3.089912   \n",
              "56474  69068.557601  160784.677109  232375.398847  1963.744899  3.089912   \n",
              "56475  69068.557601  160784.677109  232375.398847  1963.744899  3.089912   \n",
              "56476  69068.557601  160784.677109  232375.398847  1963.744899  3.089912   \n",
              "\n",
              "       FullBath  HalfBath  \n",
              "0      3.000000  0.000000  \n",
              "1      3.000000  2.000000  \n",
              "2      3.000000  0.000000  \n",
              "3      3.000000  0.000000  \n",
              "4      3.000000  0.000000  \n",
              "...         ...       ...  \n",
              "56472  1.886014  0.283921  \n",
              "56473  1.886014  0.283921  \n",
              "56474  1.886014  0.283921  \n",
              "56475  1.886014  0.283921  \n",
              "56476  1.886014  0.283921  \n",
              "\n",
              "[56477 rows x 13 columns]"
            ],
            "text/html": [
              "\n",
              "  <div id=\"df-3a1eae1f-80e8-422c-ad1d-b624cda5ade4\">\n",
              "    <div class=\"colab-df-container\">\n",
              "      <div>\n",
              "<style scoped>\n",
              "    .dataframe tbody tr th:only-of-type {\n",
              "        vertical-align: middle;\n",
              "    }\n",
              "\n",
              "    .dataframe tbody tr th {\n",
              "        vertical-align: top;\n",
              "    }\n",
              "\n",
              "    .dataframe thead th {\n",
              "        text-align: right;\n",
              "    }\n",
              "</style>\n",
              "<table border=\"1\" class=\"dataframe\">\n",
              "  <thead>\n",
              "    <tr style=\"text-align: right;\">\n",
              "      <th></th>\n",
              "      <th>UniqueID</th>\n",
              "      <th>LandUse</th>\n",
              "      <th>PropertyAddress</th>\n",
              "      <th>SaleDate</th>\n",
              "      <th>SalePrice</th>\n",
              "      <th>Acre</th>\n",
              "      <th>LandValue</th>\n",
              "      <th>BuildingValue</th>\n",
              "      <th>TotalValue</th>\n",
              "      <th>YearBuilt</th>\n",
              "      <th>Bedrooms</th>\n",
              "      <th>FullBath</th>\n",
              "      <th>HalfBath</th>\n",
              "    </tr>\n",
              "  </thead>\n",
              "  <tbody>\n",
              "    <tr>\n",
              "      <th>0</th>\n",
              "      <td>2045</td>\n",
              "      <td>SINGLE FAMILY</td>\n",
              "      <td>1808  FOX CHASE DR, GOODLETTSVILLE</td>\n",
              "      <td>2013-04-09</td>\n",
              "      <td>240000</td>\n",
              "      <td>2.300000</td>\n",
              "      <td>50000.000000</td>\n",
              "      <td>168200.000000</td>\n",
              "      <td>235700.000000</td>\n",
              "      <td>1986.000000</td>\n",
              "      <td>3.000000</td>\n",
              "      <td>3.000000</td>\n",
              "      <td>0.000000</td>\n",
              "    </tr>\n",
              "    <tr>\n",
              "      <th>1</th>\n",
              "      <td>16918</td>\n",
              "      <td>SINGLE FAMILY</td>\n",
              "      <td>1832  FOX CHASE DR, GOODLETTSVILLE</td>\n",
              "      <td>2014-06-10</td>\n",
              "      <td>366000</td>\n",
              "      <td>3.500000</td>\n",
              "      <td>50000.000000</td>\n",
              "      <td>264100.000000</td>\n",
              "      <td>319000.000000</td>\n",
              "      <td>1998.000000</td>\n",
              "      <td>3.000000</td>\n",
              "      <td>3.000000</td>\n",
              "      <td>2.000000</td>\n",
              "    </tr>\n",
              "    <tr>\n",
              "      <th>2</th>\n",
              "      <td>54582</td>\n",
              "      <td>SINGLE FAMILY</td>\n",
              "      <td>1864 FOX CHASE  DR, GOODLETTSVILLE</td>\n",
              "      <td>2016-09-26</td>\n",
              "      <td>435000</td>\n",
              "      <td>2.900000</td>\n",
              "      <td>50000.000000</td>\n",
              "      <td>216200.000000</td>\n",
              "      <td>298000.000000</td>\n",
              "      <td>1987.000000</td>\n",
              "      <td>4.000000</td>\n",
              "      <td>3.000000</td>\n",
              "      <td>0.000000</td>\n",
              "    </tr>\n",
              "    <tr>\n",
              "      <th>3</th>\n",
              "      <td>43070</td>\n",
              "      <td>SINGLE FAMILY</td>\n",
              "      <td>1853  FOX CHASE DR, GOODLETTSVILLE</td>\n",
              "      <td>2016-01-29</td>\n",
              "      <td>255000</td>\n",
              "      <td>2.600000</td>\n",
              "      <td>50000.000000</td>\n",
              "      <td>147300.000000</td>\n",
              "      <td>197300.000000</td>\n",
              "      <td>1985.000000</td>\n",
              "      <td>3.000000</td>\n",
              "      <td>3.000000</td>\n",
              "      <td>0.000000</td>\n",
              "    </tr>\n",
              "    <tr>\n",
              "      <th>4</th>\n",
              "      <td>22714</td>\n",
              "      <td>SINGLE FAMILY</td>\n",
              "      <td>1829  FOX CHASE DR, GOODLETTSVILLE</td>\n",
              "      <td>2014-10-10</td>\n",
              "      <td>278000</td>\n",
              "      <td>2.000000</td>\n",
              "      <td>50000.000000</td>\n",
              "      <td>152300.000000</td>\n",
              "      <td>202300.000000</td>\n",
              "      <td>1984.000000</td>\n",
              "      <td>4.000000</td>\n",
              "      <td>3.000000</td>\n",
              "      <td>0.000000</td>\n",
              "    </tr>\n",
              "    <tr>\n",
              "      <th>...</th>\n",
              "      <td>...</td>\n",
              "      <td>...</td>\n",
              "      <td>...</td>\n",
              "      <td>...</td>\n",
              "      <td>...</td>\n",
              "      <td>...</td>\n",
              "      <td>...</td>\n",
              "      <td>...</td>\n",
              "      <td>...</td>\n",
              "      <td>...</td>\n",
              "      <td>...</td>\n",
              "      <td>...</td>\n",
              "      <td>...</td>\n",
              "    </tr>\n",
              "    <tr>\n",
              "      <th>56472</th>\n",
              "      <td>30469</td>\n",
              "      <td>SINGLE FAMILY</td>\n",
              "      <td>1435  WINDING CREEK DR, NOLENSVILLE</td>\n",
              "      <td>2015-05-27</td>\n",
              "      <td>157500</td>\n",
              "      <td>0.498923</td>\n",
              "      <td>69068.557601</td>\n",
              "      <td>160784.677109</td>\n",
              "      <td>232375.398847</td>\n",
              "      <td>1963.744899</td>\n",
              "      <td>3.089912</td>\n",
              "      <td>1.886014</td>\n",
              "      <td>0.283921</td>\n",
              "    </tr>\n",
              "    <tr>\n",
              "      <th>56473</th>\n",
              "      <td>27707</td>\n",
              "      <td>SINGLE FAMILY</td>\n",
              "      <td>1423  WINDING CREEK DR, NOLENSVILLE</td>\n",
              "      <td>2015-03-02</td>\n",
              "      <td>145000</td>\n",
              "      <td>0.498923</td>\n",
              "      <td>69068.557601</td>\n",
              "      <td>160784.677109</td>\n",
              "      <td>232375.398847</td>\n",
              "      <td>1963.744899</td>\n",
              "      <td>3.089912</td>\n",
              "      <td>1.886014</td>\n",
              "      <td>0.283921</td>\n",
              "    </tr>\n",
              "    <tr>\n",
              "      <th>56474</th>\n",
              "      <td>52709</td>\n",
              "      <td>VACANT RESIDENTIAL LAND</td>\n",
              "      <td>1804 GRACE POINT  LN, NOLENSVILLE</td>\n",
              "      <td>2016-08-16</td>\n",
              "      <td>234611</td>\n",
              "      <td>0.498923</td>\n",
              "      <td>69068.557601</td>\n",
              "      <td>160784.677109</td>\n",
              "      <td>232375.398847</td>\n",
              "      <td>1963.744899</td>\n",
              "      <td>3.089912</td>\n",
              "      <td>1.886014</td>\n",
              "      <td>0.283921</td>\n",
              "    </tr>\n",
              "    <tr>\n",
              "      <th>56475</th>\n",
              "      <td>54042</td>\n",
              "      <td>VACANT RESIDENTIAL LAND</td>\n",
              "      <td>1709 PARK TERRACE  LN, NOLENSVILLE</td>\n",
              "      <td>2016-09-07</td>\n",
              "      <td>93844</td>\n",
              "      <td>0.498923</td>\n",
              "      <td>69068.557601</td>\n",
              "      <td>160784.677109</td>\n",
              "      <td>232375.398847</td>\n",
              "      <td>1963.744899</td>\n",
              "      <td>3.089912</td>\n",
              "      <td>1.886014</td>\n",
              "      <td>0.283921</td>\n",
              "    </tr>\n",
              "    <tr>\n",
              "      <th>56476</th>\n",
              "      <td>54043</td>\n",
              "      <td>VACANT RESIDENTIAL LAND</td>\n",
              "      <td>1713 PARK TERRACE  LN, NOLENSVILLE</td>\n",
              "      <td>2016-09-07</td>\n",
              "      <td>93844</td>\n",
              "      <td>0.498923</td>\n",
              "      <td>69068.557601</td>\n",
              "      <td>160784.677109</td>\n",
              "      <td>232375.398847</td>\n",
              "      <td>1963.744899</td>\n",
              "      <td>3.089912</td>\n",
              "      <td>1.886014</td>\n",
              "      <td>0.283921</td>\n",
              "    </tr>\n",
              "  </tbody>\n",
              "</table>\n",
              "<p>56477 rows × 13 columns</p>\n",
              "</div>\n",
              "      <button class=\"colab-df-convert\" onclick=\"convertToInteractive('df-3a1eae1f-80e8-422c-ad1d-b624cda5ade4')\"\n",
              "              title=\"Convert this dataframe to an interactive table.\"\n",
              "              style=\"display:none;\">\n",
              "        \n",
              "  <svg xmlns=\"http://www.w3.org/2000/svg\" height=\"24px\"viewBox=\"0 0 24 24\"\n",
              "       width=\"24px\">\n",
              "    <path d=\"M0 0h24v24H0V0z\" fill=\"none\"/>\n",
              "    <path d=\"M18.56 5.44l.94 2.06.94-2.06 2.06-.94-2.06-.94-.94-2.06-.94 2.06-2.06.94zm-11 1L8.5 8.5l.94-2.06 2.06-.94-2.06-.94L8.5 2.5l-.94 2.06-2.06.94zm10 10l.94 2.06.94-2.06 2.06-.94-2.06-.94-.94-2.06-.94 2.06-2.06.94z\"/><path d=\"M17.41 7.96l-1.37-1.37c-.4-.4-.92-.59-1.43-.59-.52 0-1.04.2-1.43.59L10.3 9.45l-7.72 7.72c-.78.78-.78 2.05 0 2.83L4 21.41c.39.39.9.59 1.41.59.51 0 1.02-.2 1.41-.59l7.78-7.78 2.81-2.81c.8-.78.8-2.07 0-2.86zM5.41 20L4 18.59l7.72-7.72 1.47 1.35L5.41 20z\"/>\n",
              "  </svg>\n",
              "      </button>\n",
              "      \n",
              "  <style>\n",
              "    .colab-df-container {\n",
              "      display:flex;\n",
              "      flex-wrap:wrap;\n",
              "      gap: 12px;\n",
              "    }\n",
              "\n",
              "    .colab-df-convert {\n",
              "      background-color: #E8F0FE;\n",
              "      border: none;\n",
              "      border-radius: 50%;\n",
              "      cursor: pointer;\n",
              "      display: none;\n",
              "      fill: #1967D2;\n",
              "      height: 32px;\n",
              "      padding: 0 0 0 0;\n",
              "      width: 32px;\n",
              "    }\n",
              "\n",
              "    .colab-df-convert:hover {\n",
              "      background-color: #E2EBFA;\n",
              "      box-shadow: 0px 1px 2px rgba(60, 64, 67, 0.3), 0px 1px 3px 1px rgba(60, 64, 67, 0.15);\n",
              "      fill: #174EA6;\n",
              "    }\n",
              "\n",
              "    [theme=dark] .colab-df-convert {\n",
              "      background-color: #3B4455;\n",
              "      fill: #D2E3FC;\n",
              "    }\n",
              "\n",
              "    [theme=dark] .colab-df-convert:hover {\n",
              "      background-color: #434B5C;\n",
              "      box-shadow: 0px 1px 3px 1px rgba(0, 0, 0, 0.15);\n",
              "      filter: drop-shadow(0px 1px 2px rgba(0, 0, 0, 0.3));\n",
              "      fill: #FFFFFF;\n",
              "    }\n",
              "  </style>\n",
              "\n",
              "      <script>\n",
              "        const buttonEl =\n",
              "          document.querySelector('#df-3a1eae1f-80e8-422c-ad1d-b624cda5ade4 button.colab-df-convert');\n",
              "        buttonEl.style.display =\n",
              "          google.colab.kernel.accessAllowed ? 'block' : 'none';\n",
              "\n",
              "        async function convertToInteractive(key) {\n",
              "          const element = document.querySelector('#df-3a1eae1f-80e8-422c-ad1d-b624cda5ade4');\n",
              "          const dataTable =\n",
              "            await google.colab.kernel.invokeFunction('convertToInteractive',\n",
              "                                                     [key], {});\n",
              "          if (!dataTable) return;\n",
              "\n",
              "          const docLinkHtml = 'Like what you see? Visit the ' +\n",
              "            '<a target=\"_blank\" href=https://colab.research.google.com/notebooks/data_table.ipynb>data table notebook</a>'\n",
              "            + ' to learn more about interactive tables.';\n",
              "          element.innerHTML = '';\n",
              "          dataTable['output_type'] = 'display_data';\n",
              "          await google.colab.output.renderOutput(dataTable, element);\n",
              "          const docLink = document.createElement('div');\n",
              "          docLink.innerHTML = docLinkHtml;\n",
              "          element.appendChild(docLink);\n",
              "        }\n",
              "      </script>\n",
              "    </div>\n",
              "  </div>\n",
              "  "
            ]
          },
          "metadata": {},
          "execution_count": 95
        }
      ]
    },
    {
      "cell_type": "markdown",
      "source": [
        "**2. Rename the columns to better suited names**"
      ],
      "metadata": {
        "id": "BPzREYWpMoKd"
      }
    },
    {
      "cell_type": "markdown",
      "source": [
        "Most of the columns are aptly named, maybe except for 'FullBath' and 'HalfBath'. So, we can rename them using the 'rename()' method."
      ],
      "metadata": {
        "id": "_mjfogWqH9Pv"
      }
    },
    {
      "cell_type": "code",
      "source": [
        "data.columns"
      ],
      "metadata": {
        "id": "-pXFsL2xNf78",
        "colab": {
          "base_uri": "https://localhost:8080/"
        },
        "outputId": "8a031ac4-4701-4620-9759-e9784425788b"
      },
      "execution_count": 96,
      "outputs": [
        {
          "output_type": "execute_result",
          "data": {
            "text/plain": [
              "Index(['UniqueID ', 'LandUse', 'PropertyAddress', 'SaleDate', 'SalePrice',\n",
              "       'Acre', 'LandValue', 'BuildingValue', 'TotalValue', 'YearBuilt',\n",
              "       'Bedrooms', 'FullBath', 'HalfBath'],\n",
              "      dtype='object')"
            ]
          },
          "metadata": {},
          "execution_count": 96
        }
      ]
    },
    {
      "cell_type": "code",
      "source": [
        "data.rename(columns={\"FullBath\":\"FullBathroom\"},inplace=True)\n",
        "data.rename(columns={\"HalfBath\":\"HalfBathroom\"},inplace=True)"
      ],
      "metadata": {
        "id": "XBZ856rANaQm"
      },
      "execution_count": 97,
      "outputs": []
    },
    {
      "cell_type": "markdown",
      "source": [
        "**3. Extract the month and year from the sale date.**"
      ],
      "metadata": {
        "id": "k_r6est4M4Tj"
      }
    },
    {
      "cell_type": "markdown",
      "source": [
        "We can use the 'DatetimeIndex' method in pandas to extract the year, month and day of any given date."
      ],
      "metadata": {
        "id": "XQZ4L3qSIInH"
      }
    },
    {
      "cell_type": "code",
      "source": [
        "data['Year']=pd.DatetimeIndex(data['SaleDate']).year\n",
        "data['Month']=pd.DatetimeIndex(data['SaleDate']).month\n",
        "data['Day']=pd.DatetimeIndex(data['SaleDate']).day\n",
        "data"
      ],
      "metadata": {
        "id": "IkPXlNyKi0MH",
        "colab": {
          "base_uri": "https://localhost:8080/",
          "height": 835
        },
        "outputId": "396dd8c8-244a-4b54-c488-9067115bdb80"
      },
      "execution_count": 98,
      "outputs": [
        {
          "output_type": "execute_result",
          "data": {
            "text/plain": [
              "       UniqueID                   LandUse  \\\n",
              "0           2045            SINGLE FAMILY   \n",
              "1          16918            SINGLE FAMILY   \n",
              "2          54582            SINGLE FAMILY   \n",
              "3          43070            SINGLE FAMILY   \n",
              "4          22714            SINGLE FAMILY   \n",
              "...          ...                      ...   \n",
              "56472      30469            SINGLE FAMILY   \n",
              "56473      27707            SINGLE FAMILY   \n",
              "56474      52709  VACANT RESIDENTIAL LAND   \n",
              "56475      54042  VACANT RESIDENTIAL LAND   \n",
              "56476      54043  VACANT RESIDENTIAL LAND   \n",
              "\n",
              "                           PropertyAddress   SaleDate  SalePrice      Acre  \\\n",
              "0       1808  FOX CHASE DR, GOODLETTSVILLE 2013-04-09     240000  2.300000   \n",
              "1       1832  FOX CHASE DR, GOODLETTSVILLE 2014-06-10     366000  3.500000   \n",
              "2       1864 FOX CHASE  DR, GOODLETTSVILLE 2016-09-26     435000  2.900000   \n",
              "3       1853  FOX CHASE DR, GOODLETTSVILLE 2016-01-29     255000  2.600000   \n",
              "4       1829  FOX CHASE DR, GOODLETTSVILLE 2014-10-10     278000  2.000000   \n",
              "...                                    ...        ...        ...       ...   \n",
              "56472  1435  WINDING CREEK DR, NOLENSVILLE 2015-05-27     157500  0.498923   \n",
              "56473  1423  WINDING CREEK DR, NOLENSVILLE 2015-03-02     145000  0.498923   \n",
              "56474    1804 GRACE POINT  LN, NOLENSVILLE 2016-08-16     234611  0.498923   \n",
              "56475   1709 PARK TERRACE  LN, NOLENSVILLE 2016-09-07      93844  0.498923   \n",
              "56476   1713 PARK TERRACE  LN, NOLENSVILLE 2016-09-07      93844  0.498923   \n",
              "\n",
              "          LandValue  BuildingValue     TotalValue    YearBuilt  Bedrooms  \\\n",
              "0      50000.000000  168200.000000  235700.000000  1986.000000  3.000000   \n",
              "1      50000.000000  264100.000000  319000.000000  1998.000000  3.000000   \n",
              "2      50000.000000  216200.000000  298000.000000  1987.000000  4.000000   \n",
              "3      50000.000000  147300.000000  197300.000000  1985.000000  3.000000   \n",
              "4      50000.000000  152300.000000  202300.000000  1984.000000  4.000000   \n",
              "...             ...            ...            ...          ...       ...   \n",
              "56472  69068.557601  160784.677109  232375.398847  1963.744899  3.089912   \n",
              "56473  69068.557601  160784.677109  232375.398847  1963.744899  3.089912   \n",
              "56474  69068.557601  160784.677109  232375.398847  1963.744899  3.089912   \n",
              "56475  69068.557601  160784.677109  232375.398847  1963.744899  3.089912   \n",
              "56476  69068.557601  160784.677109  232375.398847  1963.744899  3.089912   \n",
              "\n",
              "       FullBathroom  HalfBathroom  Year  Month  Day  \n",
              "0          3.000000      0.000000  2013      4    9  \n",
              "1          3.000000      2.000000  2014      6   10  \n",
              "2          3.000000      0.000000  2016      9   26  \n",
              "3          3.000000      0.000000  2016      1   29  \n",
              "4          3.000000      0.000000  2014     10   10  \n",
              "...             ...           ...   ...    ...  ...  \n",
              "56472      1.886014      0.283921  2015      5   27  \n",
              "56473      1.886014      0.283921  2015      3    2  \n",
              "56474      1.886014      0.283921  2016      8   16  \n",
              "56475      1.886014      0.283921  2016      9    7  \n",
              "56476      1.886014      0.283921  2016      9    7  \n",
              "\n",
              "[56477 rows x 16 columns]"
            ],
            "text/html": [
              "\n",
              "  <div id=\"df-826db942-611e-4d45-b9d0-a8896bb90b7e\">\n",
              "    <div class=\"colab-df-container\">\n",
              "      <div>\n",
              "<style scoped>\n",
              "    .dataframe tbody tr th:only-of-type {\n",
              "        vertical-align: middle;\n",
              "    }\n",
              "\n",
              "    .dataframe tbody tr th {\n",
              "        vertical-align: top;\n",
              "    }\n",
              "\n",
              "    .dataframe thead th {\n",
              "        text-align: right;\n",
              "    }\n",
              "</style>\n",
              "<table border=\"1\" class=\"dataframe\">\n",
              "  <thead>\n",
              "    <tr style=\"text-align: right;\">\n",
              "      <th></th>\n",
              "      <th>UniqueID</th>\n",
              "      <th>LandUse</th>\n",
              "      <th>PropertyAddress</th>\n",
              "      <th>SaleDate</th>\n",
              "      <th>SalePrice</th>\n",
              "      <th>Acre</th>\n",
              "      <th>LandValue</th>\n",
              "      <th>BuildingValue</th>\n",
              "      <th>TotalValue</th>\n",
              "      <th>YearBuilt</th>\n",
              "      <th>Bedrooms</th>\n",
              "      <th>FullBathroom</th>\n",
              "      <th>HalfBathroom</th>\n",
              "      <th>Year</th>\n",
              "      <th>Month</th>\n",
              "      <th>Day</th>\n",
              "    </tr>\n",
              "  </thead>\n",
              "  <tbody>\n",
              "    <tr>\n",
              "      <th>0</th>\n",
              "      <td>2045</td>\n",
              "      <td>SINGLE FAMILY</td>\n",
              "      <td>1808  FOX CHASE DR, GOODLETTSVILLE</td>\n",
              "      <td>2013-04-09</td>\n",
              "      <td>240000</td>\n",
              "      <td>2.300000</td>\n",
              "      <td>50000.000000</td>\n",
              "      <td>168200.000000</td>\n",
              "      <td>235700.000000</td>\n",
              "      <td>1986.000000</td>\n",
              "      <td>3.000000</td>\n",
              "      <td>3.000000</td>\n",
              "      <td>0.000000</td>\n",
              "      <td>2013</td>\n",
              "      <td>4</td>\n",
              "      <td>9</td>\n",
              "    </tr>\n",
              "    <tr>\n",
              "      <th>1</th>\n",
              "      <td>16918</td>\n",
              "      <td>SINGLE FAMILY</td>\n",
              "      <td>1832  FOX CHASE DR, GOODLETTSVILLE</td>\n",
              "      <td>2014-06-10</td>\n",
              "      <td>366000</td>\n",
              "      <td>3.500000</td>\n",
              "      <td>50000.000000</td>\n",
              "      <td>264100.000000</td>\n",
              "      <td>319000.000000</td>\n",
              "      <td>1998.000000</td>\n",
              "      <td>3.000000</td>\n",
              "      <td>3.000000</td>\n",
              "      <td>2.000000</td>\n",
              "      <td>2014</td>\n",
              "      <td>6</td>\n",
              "      <td>10</td>\n",
              "    </tr>\n",
              "    <tr>\n",
              "      <th>2</th>\n",
              "      <td>54582</td>\n",
              "      <td>SINGLE FAMILY</td>\n",
              "      <td>1864 FOX CHASE  DR, GOODLETTSVILLE</td>\n",
              "      <td>2016-09-26</td>\n",
              "      <td>435000</td>\n",
              "      <td>2.900000</td>\n",
              "      <td>50000.000000</td>\n",
              "      <td>216200.000000</td>\n",
              "      <td>298000.000000</td>\n",
              "      <td>1987.000000</td>\n",
              "      <td>4.000000</td>\n",
              "      <td>3.000000</td>\n",
              "      <td>0.000000</td>\n",
              "      <td>2016</td>\n",
              "      <td>9</td>\n",
              "      <td>26</td>\n",
              "    </tr>\n",
              "    <tr>\n",
              "      <th>3</th>\n",
              "      <td>43070</td>\n",
              "      <td>SINGLE FAMILY</td>\n",
              "      <td>1853  FOX CHASE DR, GOODLETTSVILLE</td>\n",
              "      <td>2016-01-29</td>\n",
              "      <td>255000</td>\n",
              "      <td>2.600000</td>\n",
              "      <td>50000.000000</td>\n",
              "      <td>147300.000000</td>\n",
              "      <td>197300.000000</td>\n",
              "      <td>1985.000000</td>\n",
              "      <td>3.000000</td>\n",
              "      <td>3.000000</td>\n",
              "      <td>0.000000</td>\n",
              "      <td>2016</td>\n",
              "      <td>1</td>\n",
              "      <td>29</td>\n",
              "    </tr>\n",
              "    <tr>\n",
              "      <th>4</th>\n",
              "      <td>22714</td>\n",
              "      <td>SINGLE FAMILY</td>\n",
              "      <td>1829  FOX CHASE DR, GOODLETTSVILLE</td>\n",
              "      <td>2014-10-10</td>\n",
              "      <td>278000</td>\n",
              "      <td>2.000000</td>\n",
              "      <td>50000.000000</td>\n",
              "      <td>152300.000000</td>\n",
              "      <td>202300.000000</td>\n",
              "      <td>1984.000000</td>\n",
              "      <td>4.000000</td>\n",
              "      <td>3.000000</td>\n",
              "      <td>0.000000</td>\n",
              "      <td>2014</td>\n",
              "      <td>10</td>\n",
              "      <td>10</td>\n",
              "    </tr>\n",
              "    <tr>\n",
              "      <th>...</th>\n",
              "      <td>...</td>\n",
              "      <td>...</td>\n",
              "      <td>...</td>\n",
              "      <td>...</td>\n",
              "      <td>...</td>\n",
              "      <td>...</td>\n",
              "      <td>...</td>\n",
              "      <td>...</td>\n",
              "      <td>...</td>\n",
              "      <td>...</td>\n",
              "      <td>...</td>\n",
              "      <td>...</td>\n",
              "      <td>...</td>\n",
              "      <td>...</td>\n",
              "      <td>...</td>\n",
              "      <td>...</td>\n",
              "    </tr>\n",
              "    <tr>\n",
              "      <th>56472</th>\n",
              "      <td>30469</td>\n",
              "      <td>SINGLE FAMILY</td>\n",
              "      <td>1435  WINDING CREEK DR, NOLENSVILLE</td>\n",
              "      <td>2015-05-27</td>\n",
              "      <td>157500</td>\n",
              "      <td>0.498923</td>\n",
              "      <td>69068.557601</td>\n",
              "      <td>160784.677109</td>\n",
              "      <td>232375.398847</td>\n",
              "      <td>1963.744899</td>\n",
              "      <td>3.089912</td>\n",
              "      <td>1.886014</td>\n",
              "      <td>0.283921</td>\n",
              "      <td>2015</td>\n",
              "      <td>5</td>\n",
              "      <td>27</td>\n",
              "    </tr>\n",
              "    <tr>\n",
              "      <th>56473</th>\n",
              "      <td>27707</td>\n",
              "      <td>SINGLE FAMILY</td>\n",
              "      <td>1423  WINDING CREEK DR, NOLENSVILLE</td>\n",
              "      <td>2015-03-02</td>\n",
              "      <td>145000</td>\n",
              "      <td>0.498923</td>\n",
              "      <td>69068.557601</td>\n",
              "      <td>160784.677109</td>\n",
              "      <td>232375.398847</td>\n",
              "      <td>1963.744899</td>\n",
              "      <td>3.089912</td>\n",
              "      <td>1.886014</td>\n",
              "      <td>0.283921</td>\n",
              "      <td>2015</td>\n",
              "      <td>3</td>\n",
              "      <td>2</td>\n",
              "    </tr>\n",
              "    <tr>\n",
              "      <th>56474</th>\n",
              "      <td>52709</td>\n",
              "      <td>VACANT RESIDENTIAL LAND</td>\n",
              "      <td>1804 GRACE POINT  LN, NOLENSVILLE</td>\n",
              "      <td>2016-08-16</td>\n",
              "      <td>234611</td>\n",
              "      <td>0.498923</td>\n",
              "      <td>69068.557601</td>\n",
              "      <td>160784.677109</td>\n",
              "      <td>232375.398847</td>\n",
              "      <td>1963.744899</td>\n",
              "      <td>3.089912</td>\n",
              "      <td>1.886014</td>\n",
              "      <td>0.283921</td>\n",
              "      <td>2016</td>\n",
              "      <td>8</td>\n",
              "      <td>16</td>\n",
              "    </tr>\n",
              "    <tr>\n",
              "      <th>56475</th>\n",
              "      <td>54042</td>\n",
              "      <td>VACANT RESIDENTIAL LAND</td>\n",
              "      <td>1709 PARK TERRACE  LN, NOLENSVILLE</td>\n",
              "      <td>2016-09-07</td>\n",
              "      <td>93844</td>\n",
              "      <td>0.498923</td>\n",
              "      <td>69068.557601</td>\n",
              "      <td>160784.677109</td>\n",
              "      <td>232375.398847</td>\n",
              "      <td>1963.744899</td>\n",
              "      <td>3.089912</td>\n",
              "      <td>1.886014</td>\n",
              "      <td>0.283921</td>\n",
              "      <td>2016</td>\n",
              "      <td>9</td>\n",
              "      <td>7</td>\n",
              "    </tr>\n",
              "    <tr>\n",
              "      <th>56476</th>\n",
              "      <td>54043</td>\n",
              "      <td>VACANT RESIDENTIAL LAND</td>\n",
              "      <td>1713 PARK TERRACE  LN, NOLENSVILLE</td>\n",
              "      <td>2016-09-07</td>\n",
              "      <td>93844</td>\n",
              "      <td>0.498923</td>\n",
              "      <td>69068.557601</td>\n",
              "      <td>160784.677109</td>\n",
              "      <td>232375.398847</td>\n",
              "      <td>1963.744899</td>\n",
              "      <td>3.089912</td>\n",
              "      <td>1.886014</td>\n",
              "      <td>0.283921</td>\n",
              "      <td>2016</td>\n",
              "      <td>9</td>\n",
              "      <td>7</td>\n",
              "    </tr>\n",
              "  </tbody>\n",
              "</table>\n",
              "<p>56477 rows × 16 columns</p>\n",
              "</div>\n",
              "      <button class=\"colab-df-convert\" onclick=\"convertToInteractive('df-826db942-611e-4d45-b9d0-a8896bb90b7e')\"\n",
              "              title=\"Convert this dataframe to an interactive table.\"\n",
              "              style=\"display:none;\">\n",
              "        \n",
              "  <svg xmlns=\"http://www.w3.org/2000/svg\" height=\"24px\"viewBox=\"0 0 24 24\"\n",
              "       width=\"24px\">\n",
              "    <path d=\"M0 0h24v24H0V0z\" fill=\"none\"/>\n",
              "    <path d=\"M18.56 5.44l.94 2.06.94-2.06 2.06-.94-2.06-.94-.94-2.06-.94 2.06-2.06.94zm-11 1L8.5 8.5l.94-2.06 2.06-.94-2.06-.94L8.5 2.5l-.94 2.06-2.06.94zm10 10l.94 2.06.94-2.06 2.06-.94-2.06-.94-.94-2.06-.94 2.06-2.06.94z\"/><path d=\"M17.41 7.96l-1.37-1.37c-.4-.4-.92-.59-1.43-.59-.52 0-1.04.2-1.43.59L10.3 9.45l-7.72 7.72c-.78.78-.78 2.05 0 2.83L4 21.41c.39.39.9.59 1.41.59.51 0 1.02-.2 1.41-.59l7.78-7.78 2.81-2.81c.8-.78.8-2.07 0-2.86zM5.41 20L4 18.59l7.72-7.72 1.47 1.35L5.41 20z\"/>\n",
              "  </svg>\n",
              "      </button>\n",
              "      \n",
              "  <style>\n",
              "    .colab-df-container {\n",
              "      display:flex;\n",
              "      flex-wrap:wrap;\n",
              "      gap: 12px;\n",
              "    }\n",
              "\n",
              "    .colab-df-convert {\n",
              "      background-color: #E8F0FE;\n",
              "      border: none;\n",
              "      border-radius: 50%;\n",
              "      cursor: pointer;\n",
              "      display: none;\n",
              "      fill: #1967D2;\n",
              "      height: 32px;\n",
              "      padding: 0 0 0 0;\n",
              "      width: 32px;\n",
              "    }\n",
              "\n",
              "    .colab-df-convert:hover {\n",
              "      background-color: #E2EBFA;\n",
              "      box-shadow: 0px 1px 2px rgba(60, 64, 67, 0.3), 0px 1px 3px 1px rgba(60, 64, 67, 0.15);\n",
              "      fill: #174EA6;\n",
              "    }\n",
              "\n",
              "    [theme=dark] .colab-df-convert {\n",
              "      background-color: #3B4455;\n",
              "      fill: #D2E3FC;\n",
              "    }\n",
              "\n",
              "    [theme=dark] .colab-df-convert:hover {\n",
              "      background-color: #434B5C;\n",
              "      box-shadow: 0px 1px 3px 1px rgba(0, 0, 0, 0.15);\n",
              "      filter: drop-shadow(0px 1px 2px rgba(0, 0, 0, 0.3));\n",
              "      fill: #FFFFFF;\n",
              "    }\n",
              "  </style>\n",
              "\n",
              "      <script>\n",
              "        const buttonEl =\n",
              "          document.querySelector('#df-826db942-611e-4d45-b9d0-a8896bb90b7e button.colab-df-convert');\n",
              "        buttonEl.style.display =\n",
              "          google.colab.kernel.accessAllowed ? 'block' : 'none';\n",
              "\n",
              "        async function convertToInteractive(key) {\n",
              "          const element = document.querySelector('#df-826db942-611e-4d45-b9d0-a8896bb90b7e');\n",
              "          const dataTable =\n",
              "            await google.colab.kernel.invokeFunction('convertToInteractive',\n",
              "                                                     [key], {});\n",
              "          if (!dataTable) return;\n",
              "\n",
              "          const docLinkHtml = 'Like what you see? Visit the ' +\n",
              "            '<a target=\"_blank\" href=https://colab.research.google.com/notebooks/data_table.ipynb>data table notebook</a>'\n",
              "            + ' to learn more about interactive tables.';\n",
              "          element.innerHTML = '';\n",
              "          dataTable['output_type'] = 'display_data';\n",
              "          await google.colab.output.renderOutput(dataTable, element);\n",
              "          const docLink = document.createElement('div');\n",
              "          docLink.innerHTML = docLinkHtml;\n",
              "          element.appendChild(docLink);\n",
              "        }\n",
              "      </script>\n",
              "    </div>\n",
              "  </div>\n",
              "  "
            ]
          },
          "metadata": {},
          "execution_count": 98
        }
      ]
    },
    {
      "cell_type": "markdown",
      "source": [
        "**4. Extract the pin number from the property address**"
      ],
      "metadata": {
        "id": "0xv44SjeM4W3"
      }
    },
    {
      "cell_type": "code",
      "source": [
        "data['Pin'] = data['PropertyAddress'].str[:4]\n",
        "data['Pin']"
      ],
      "metadata": {
        "id": "dk9TvE_PMTxS",
        "colab": {
          "base_uri": "https://localhost:8080/"
        },
        "outputId": "124c9220-77c4-4016-efc9-384fa70c459a"
      },
      "execution_count": 99,
      "outputs": [
        {
          "output_type": "execute_result",
          "data": {
            "text/plain": [
              "0        1808\n",
              "1        1832\n",
              "2        1864\n",
              "3        1853\n",
              "4        1829\n",
              "         ... \n",
              "56472    1435\n",
              "56473    1423\n",
              "56474    1804\n",
              "56475    1709\n",
              "56476    1713\n",
              "Name: Pin, Length: 56477, dtype: object"
            ]
          },
          "metadata": {},
          "execution_count": 99
        }
      ]
    },
    {
      "cell_type": "markdown",
      "source": [
        "**EXPLORATORY DATA ANALYSIS**"
      ],
      "metadata": {
        "id": "gZLusby9Pyn-"
      }
    },
    {
      "cell_type": "markdown",
      "source": [
        "**1. How has the price of properties changed over the years**"
      ],
      "metadata": {
        "id": "lIqHWvIgP3G4"
      }
    },
    {
      "cell_type": "code",
      "source": [
        "sales_grouped_data = data.groupby('Year')['SalePrice'].count()\n",
        "sales_grouped_data"
      ],
      "metadata": {
        "id": "-lsXkAEUP1XB",
        "colab": {
          "base_uri": "https://localhost:8080/"
        },
        "outputId": "f570b48d-cb96-4c3d-ae73-a22c57d98e21"
      },
      "execution_count": 100,
      "outputs": [
        {
          "output_type": "execute_result",
          "data": {
            "text/plain": [
              "Year\n",
              "2013    11292\n",
              "2014    14283\n",
              "2015    16829\n",
              "2016    14071\n",
              "2019        2\n",
              "Name: SalePrice, dtype: int64"
            ]
          },
          "metadata": {},
          "execution_count": 100
        }
      ]
    },
    {
      "cell_type": "code",
      "source": [
        "sns.lineplot(x=sales_grouped_data.index, y =sales_grouped_data.values)\n"
      ],
      "metadata": {
        "id": "9FPKUHQYRNzx",
        "colab": {
          "base_uri": "https://localhost:8080/",
          "height": 304
        },
        "outputId": "728e995f-a547-4bdf-978c-b50387533247"
      },
      "execution_count": 101,
      "outputs": [
        {
          "output_type": "execute_result",
          "data": {
            "text/plain": [
              "<matplotlib.axes._subplots.AxesSubplot at 0x7f0e5061a050>"
            ]
          },
          "metadata": {},
          "execution_count": 101
        },
        {
          "output_type": "display_data",
          "data": {
            "text/plain": [
              "<Figure size 432x288 with 1 Axes>"
            ],
            "image/png": "[encoded data removed]"
          },
          "metadata": {}
        }
      ]
    },
    {
      "cell_type": "markdown",
      "source": [
        "As the above line plot clearly suggests, the sale prices of houses peaked around the year 2015, and ever since have rapidly declined. "
      ],
      "metadata": {
        "id": "fT2vAbXOIgnd"
      }
    },
    {
      "cell_type": "markdown",
      "source": [
        "**2. Does a specific month or span of months have the highest property prices?**\n",
        " "
      ],
      "metadata": {
        "id": "CR9NjU6lQkpW"
      }
    },
    {
      "cell_type": "code",
      "source": [
        "month_grouped_data = data.groupby('Month')['SalePrice'].sum()\n",
        "month_grouped_data"
      ],
      "metadata": {
        "id": "nXP1kFW3S2am",
        "colab": {
          "base_uri": "https://localhost:8080/"
        },
        "outputId": "00e0822d-7eae-47b2-dd67-668e6cc5ff07"
      },
      "execution_count": 102,
      "outputs": [
        {
          "output_type": "execute_result",
          "data": {
            "text/plain": [
              "Month\n",
              "1     2155382094\n",
              "2      683643350\n",
              "3     1191059922\n",
              "4     1569431847\n",
              "5     1765649668\n",
              "6     1978451943\n",
              "7     1758217830\n",
              "8     1800308075\n",
              "9     1672552371\n",
              "10    1329782558\n",
              "11    1044454378\n",
              "12    1531829638\n",
              "Name: SalePrice, dtype: int64"
            ]
          },
          "metadata": {},
          "execution_count": 102
        }
      ]
    },
    {
      "cell_type": "code",
      "source": [
        "sns.barplot(x=month_grouped_data.index,y=month_grouped_data.values)"
      ],
      "metadata": {
        "id": "JD0tKMyEEkrM",
        "colab": {
          "base_uri": "https://localhost:8080/",
          "height": 313
        },
        "outputId": "1478ae70-5cb1-4cce-84d0-ac3657d61817"
      },
      "execution_count": 103,
      "outputs": [
        {
          "output_type": "execute_result",
          "data": {
            "text/plain": [
              "<matplotlib.axes._subplots.AxesSubplot at 0x7f0e4eca6b10>"
            ]
          },
          "metadata": {},
          "execution_count": 103
        },
        {
          "output_type": "display_data",
          "data": {
            "text/plain": [
              "<Figure size 432x288 with 1 Axes>"
            ],
            "image/png": "[encoded data removed]"
          },
          "metadata": {}
        }
      ]
    },
    {
      "cell_type": "markdown",
      "source": [
        "From the above barplot, we can make out that the sales are at their peak in January, and around the middle of the year in June, albeit slightly less. "
      ],
      "metadata": {
        "id": "NRRHOt6QIttc"
      }
    },
    {
      "cell_type": "markdown",
      "source": [
        "**3. For what purpose were the properties generally purchased?**\n"
      ],
      "metadata": {
        "id": "VHwa8ZPlQksM"
      }
    },
    {
      "cell_type": "code",
      "source": [
        "data['LandUse'].unique()"
      ],
      "metadata": {
        "id": "_tnuEZrRTK2E",
        "colab": {
          "base_uri": "https://localhost:8080/"
        },
        "outputId": "de4423f5-acc0-41ce-cb91-d0af9416a3c9"
      },
      "execution_count": 104,
      "outputs": [
        {
          "output_type": "execute_result",
          "data": {
            "text/plain": [
              "array(['SINGLE FAMILY', 'RESIDENTIAL CONDO', 'VACANT RURAL LAND',\n",
              "       'VACANT RES LAND', 'DUPLEX', 'VACANT RESIDENTIAL LAND', 'CHURCH',\n",
              "       'ZERO LOT LINE', 'RESIDENTIAL COMBO/MISC', 'PARSONAGE',\n",
              "       'OFFICE BLDG (ONE OR TWO STORIES)',\n",
              "       'GREENBELT/RES_x000D_\\nGRRENBELT/RES', 'MOBILE HOME',\n",
              "       'PARKING LOT', 'CLUB/UNION HALL/LODGE', 'TRIPLEX',\n",
              "       'VACANT ZONED MULTI FAMILY', 'SPLIT CLASS', 'CONDO', 'QUADPLEX',\n",
              "       'LIGHT MANUFACTURING', 'FOREST', 'CONVENIENCE MARKET WITHOUT GAS',\n",
              "       'DORMITORY/BOARDING HOUSE', 'GREENBELT', 'DAY CARE CENTER',\n",
              "       'METRO OTHER THAN OFC, SCHOOL,HOSP, OR PARK',\n",
              "       'TERMINAL/DISTRIBUTION WAREHOUSE', 'NIGHTCLUB/LOUNGE',\n",
              "       'RESTURANT/CAFETERIA', 'VACANT COMMERCIAL LAND',\n",
              "       'CONDOMINIUM OFC  OR OTHER COM CONDO', 'STRIP SHOPPING CENTER',\n",
              "       'VACANT RESIENTIAL LAND', 'APARTMENT: LOW RISE (BUILT SINCE 1960)',\n",
              "       'ONE STORY GENERAL RETAIL STORE', 'NON-PROFIT CHARITABLE SERVICE',\n",
              "       'SMALL SERVICE SHOP', 'MORTUARY/CEMETERY'], dtype=object)"
            ]
          },
          "metadata": {},
          "execution_count": 104
        }
      ]
    },
    {
      "cell_type": "code",
      "source": [
        "sns.countplot(x='LandUse', data = data)"
      ],
      "metadata": {
        "colab": {
          "base_uri": "https://localhost:8080/",
          "height": 314
        },
        "id": "zQ5vx9vsJmaN",
        "outputId": "ad3c8ec3-720b-4ec9-f4ca-1976747c1681"
      },
      "execution_count": 105,
      "outputs": [
        {
          "output_type": "execute_result",
          "data": {
            "text/plain": [
              "<matplotlib.axes._subplots.AxesSubplot at 0x7f0e50376690>"
            ]
          },
          "metadata": {},
          "execution_count": 105
        },
        {
          "output_type": "display_data",
          "data": {
            "text/plain": [
              "<Figure size 432x288 with 1 Axes>"
            ],
            "image/png": "[encoded data removed]"
          },
          "metadata": {}
        }
      ]
    },
    {
      "cell_type": "code",
      "source": [
        "purpose_grouped_data = data.groupby('LandUse')['LandUse'].count()\n",
        "purpose_grouped_data.sort_values(ascending = False)"
      ],
      "metadata": {
        "colab": {
          "base_uri": "https://localhost:8080/"
        },
        "id": "cxiylpitJ6SJ",
        "outputId": "13edd65c-e307-4df1-db9d-aa129d48d756"
      },
      "execution_count": 106,
      "outputs": [
        {
          "output_type": "execute_result",
          "data": {
            "text/plain": [
              "LandUse\n",
              "SINGLE FAMILY                                 34197\n",
              "RESIDENTIAL CONDO                             14080\n",
              "VACANT RESIDENTIAL LAND                        3547\n",
              "VACANT RES LAND                                1549\n",
              "DUPLEX                                         1373\n",
              "ZERO LOT LINE                                  1048\n",
              "CONDO                                           247\n",
              "RESIDENTIAL COMBO/MISC                           95\n",
              "TRIPLEX                                          92\n",
              "QUADPLEX                                         39\n",
              "CONDOMINIUM OFC  OR OTHER COM CONDO              35\n",
              "CHURCH                                           34\n",
              "MOBILE HOME                                      20\n",
              "DORMITORY/BOARDING HOUSE                         19\n",
              "VACANT COMMERCIAL LAND                           17\n",
              "SPLIT CLASS                                      17\n",
              "PARKING LOT                                      11\n",
              "GREENBELT                                        10\n",
              "FOREST                                           10\n",
              "PARSONAGE                                         6\n",
              "VACANT RESIENTIAL LAND                            3\n",
              "GREENBELT/RES_x000D_\\nGRRENBELT/RES               3\n",
              "VACANT RURAL LAND                                 2\n",
              "VACANT ZONED MULTI FAMILY                         2\n",
              "TERMINAL/DISTRIBUTION WAREHOUSE                   2\n",
              "APARTMENT: LOW RISE (BUILT SINCE 1960)            2\n",
              "RESTURANT/CAFETERIA                               2\n",
              "OFFICE BLDG (ONE OR TWO STORIES)                  2\n",
              "NON-PROFIT CHARITABLE SERVICE                     2\n",
              "DAY CARE CENTER                                   2\n",
              "SMALL SERVICE SHOP                                1\n",
              "STRIP SHOPPING CENTER                             1\n",
              "NIGHTCLUB/LOUNGE                                  1\n",
              "MORTUARY/CEMETERY                                 1\n",
              "METRO OTHER THAN OFC, SCHOOL,HOSP, OR PARK        1\n",
              "LIGHT MANUFACTURING                               1\n",
              "CONVENIENCE MARKET WITHOUT GAS                    1\n",
              "CLUB/UNION HALL/LODGE                             1\n",
              "ONE STORY GENERAL RETAIL STORE                    1\n",
              "Name: LandUse, dtype: int64"
            ]
          },
          "metadata": {},
          "execution_count": 106
        }
      ]
    },
    {
      "cell_type": "markdown",
      "source": [
        "Clearly, from the above arrangement 'SINGLE FAMILY' and 'RESIDENTIAL CONDO' were the major reasons for the purchase of houses."
      ],
      "metadata": {
        "id": "-x9llzbrLGKA"
      }
    },
    {
      "cell_type": "markdown",
      "source": [
        "**4. What is the average age of the properties?**\n",
        "\n",
        "\n",
        "\n"
      ],
      "metadata": {
        "id": "ApPzERKPQkvK"
      }
    },
    {
      "cell_type": "code",
      "source": [
        "math.trunc(data['YearBuilt'].mean())"
      ],
      "metadata": {
        "id": "OhWikqVwS3rh",
        "colab": {
          "base_uri": "https://localhost:8080/"
        },
        "outputId": "41b13864-c10a-4902-e49a-c0fde4d6bd75"
      },
      "execution_count": 107,
      "outputs": [
        {
          "output_type": "execute_result",
          "data": {
            "text/plain": [
              "1963"
            ]
          },
          "metadata": {},
          "execution_count": 107
        }
      ]
    },
    {
      "cell_type": "code",
      "source": [
        "data['YearBuilt'].max()"
      ],
      "metadata": {
        "colab": {
          "base_uri": "https://localhost:8080/"
        },
        "id": "tDboHY4Sr34y",
        "outputId": "2f950ea1-b50e-4a37-df54-ea2c79554e43"
      },
      "execution_count": 108,
      "outputs": [
        {
          "output_type": "execute_result",
          "data": {
            "text/plain": [
              "2017.0"
            ]
          },
          "metadata": {},
          "execution_count": 108
        }
      ]
    },
    {
      "cell_type": "markdown",
      "source": [
        "**5. Have the age of houses affected the price?**\n"
      ],
      "metadata": {
        "id": "yuQL15IqQkyQ"
      }
    },
    {
      "cell_type": "code",
      "source": [
        "data.head()"
      ],
      "metadata": {
        "id": "EVfbwQ8fS4OH",
        "colab": {
          "base_uri": "https://localhost:8080/",
          "height": 444
        },
        "outputId": "f77b377b-1feb-4d44-ad8d-c9a64aca1688"
      },
      "execution_count": 109,
      "outputs": [
        {
          "output_type": "execute_result",
          "data": {
            "text/plain": [
              "   UniqueID         LandUse                     PropertyAddress   SaleDate  \\\n",
              "0       2045  SINGLE FAMILY  1808  FOX CHASE DR, GOODLETTSVILLE 2013-04-09   \n",
              "1      16918  SINGLE FAMILY  1832  FOX CHASE DR, GOODLETTSVILLE 2014-06-10   \n",
              "2      54582  SINGLE FAMILY  1864 FOX CHASE  DR, GOODLETTSVILLE 2016-09-26   \n",
              "3      43070  SINGLE FAMILY  1853  FOX CHASE DR, GOODLETTSVILLE 2016-01-29   \n",
              "4      22714  SINGLE FAMILY  1829  FOX CHASE DR, GOODLETTSVILLE 2014-10-10   \n",
              "\n",
              "   SalePrice  Acre  LandValue  BuildingValue  TotalValue  YearBuilt  Bedrooms  \\\n",
              "0     240000   2.3    50000.0       168200.0    235700.0     1986.0       3.0   \n",
              "1     366000   3.5    50000.0       264100.0    319000.0     1998.0       3.0   \n",
              "2     435000   2.9    50000.0       216200.0    298000.0     1987.0       4.0   \n",
              "3     255000   2.6    50000.0       147300.0    197300.0     1985.0       3.0   \n",
              "4     278000   2.0    50000.0       152300.0    202300.0     1984.0       4.0   \n",
              "\n",
              "   FullBathroom  HalfBathroom  Year  Month  Day   Pin  \n",
              "0           3.0           0.0  2013      4    9  1808  \n",
              "1           3.0           2.0  2014      6   10  1832  \n",
              "2           3.0           0.0  2016      9   26  1864  \n",
              "3           3.0           0.0  2016      1   29  1853  \n",
              "4           3.0           0.0  2014     10   10  1829  "
            ],
            "text/html": [
              "\n",
              "  <div id=\"df-9d312d19-083b-40b3-9964-8c822ac603eb\">\n",
              "    <div class=\"colab-df-container\">\n",
              "      <div>\n",
              "<style scoped>\n",
              "    .dataframe tbody tr th:only-of-type {\n",
              "        vertical-align: middle;\n",
              "    }\n",
              "\n",
              "    .dataframe tbody tr th {\n",
              "        vertical-align: top;\n",
              "    }\n",
              "\n",
              "    .dataframe thead th {\n",
              "        text-align: right;\n",
              "    }\n",
              "</style>\n",
              "<table border=\"1\" class=\"dataframe\">\n",
              "  <thead>\n",
              "    <tr style=\"text-align: right;\">\n",
              "      <th></th>\n",
              "      <th>UniqueID</th>\n",
              "      <th>LandUse</th>\n",
              "      <th>PropertyAddress</th>\n",
              "      <th>SaleDate</th>\n",
              "      <th>SalePrice</th>\n",
              "      <th>Acre</th>\n",
              "      <th>LandValue</th>\n",
              "      <th>BuildingValue</th>\n",
              "      <th>TotalValue</th>\n",
              "      <th>YearBuilt</th>\n",
              "      <th>Bedrooms</th>\n",
              "      <th>FullBathroom</th>\n",
              "      <th>HalfBathroom</th>\n",
              "      <th>Year</th>\n",
              "      <th>Month</th>\n",
              "      <th>Day</th>\n",
              "      <th>Pin</th>\n",
              "    </tr>\n",
              "  </thead>\n",
              "  <tbody>\n",
              "    <tr>\n",
              "      <th>0</th>\n",
              "      <td>2045</td>\n",
              "      <td>SINGLE FAMILY</td>\n",
              "      <td>1808  FOX CHASE DR, GOODLETTSVILLE</td>\n",
              "      <td>2013-04-09</td>\n",
              "      <td>240000</td>\n",
              "      <td>2.3</td>\n",
              "      <td>50000.0</td>\n",
              "      <td>168200.0</td>\n",
              "      <td>235700.0</td>\n",
              "      <td>1986.0</td>\n",
              "      <td>3.0</td>\n",
              "      <td>3.0</td>\n",
              "      <td>0.0</td>\n",
              "      <td>2013</td>\n",
              "      <td>4</td>\n",
              "      <td>9</td>\n",
              "      <td>1808</td>\n",
              "    </tr>\n",
              "    <tr>\n",
              "      <th>1</th>\n",
              "      <td>16918</td>\n",
              "      <td>SINGLE FAMILY</td>\n",
              "      <td>1832  FOX CHASE DR, GOODLETTSVILLE</td>\n",
              "      <td>2014-06-10</td>\n",
              "      <td>366000</td>\n",
              "      <td>3.5</td>\n",
              "      <td>50000.0</td>\n",
              "      <td>264100.0</td>\n",
              "      <td>319000.0</td>\n",
              "      <td>1998.0</td>\n",
              "      <td>3.0</td>\n",
              "      <td>3.0</td>\n",
              "      <td>2.0</td>\n",
              "      <td>2014</td>\n",
              "      <td>6</td>\n",
              "      <td>10</td>\n",
              "      <td>1832</td>\n",
              "    </tr>\n",
              "    <tr>\n",
              "      <th>2</th>\n",
              "      <td>54582</td>\n",
              "      <td>SINGLE FAMILY</td>\n",
              "      <td>1864 FOX CHASE  DR, GOODLETTSVILLE</td>\n",
              "      <td>2016-09-26</td>\n",
              "      <td>435000</td>\n",
              "      <td>2.9</td>\n",
              "      <td>50000.0</td>\n",
              "      <td>216200.0</td>\n",
              "      <td>298000.0</td>\n",
              "      <td>1987.0</td>\n",
              "      <td>4.0</td>\n",
              "      <td>3.0</td>\n",
              "      <td>0.0</td>\n",
              "      <td>2016</td>\n",
              "      <td>9</td>\n",
              "      <td>26</td>\n",
              "      <td>1864</td>\n",
              "    </tr>\n",
              "    <tr>\n",
              "      <th>3</th>\n",
              "      <td>43070</td>\n",
              "      <td>SINGLE FAMILY</td>\n",
              "      <td>1853  FOX CHASE DR, GOODLETTSVILLE</td>\n",
              "      <td>2016-01-29</td>\n",
              "      <td>255000</td>\n",
              "      <td>2.6</td>\n",
              "      <td>50000.0</td>\n",
              "      <td>147300.0</td>\n",
              "      <td>197300.0</td>\n",
              "      <td>1985.0</td>\n",
              "      <td>3.0</td>\n",
              "      <td>3.0</td>\n",
              "      <td>0.0</td>\n",
              "      <td>2016</td>\n",
              "      <td>1</td>\n",
              "      <td>29</td>\n",
              "      <td>1853</td>\n",
              "    </tr>\n",
              "    <tr>\n",
              "      <th>4</th>\n",
              "      <td>22714</td>\n",
              "      <td>SINGLE FAMILY</td>\n",
              "      <td>1829  FOX CHASE DR, GOODLETTSVILLE</td>\n",
              "      <td>2014-10-10</td>\n",
              "      <td>278000</td>\n",
              "      <td>2.0</td>\n",
              "      <td>50000.0</td>\n",
              "      <td>152300.0</td>\n",
              "      <td>202300.0</td>\n",
              "      <td>1984.0</td>\n",
              "      <td>4.0</td>\n",
              "      <td>3.0</td>\n",
              "      <td>0.0</td>\n",
              "      <td>2014</td>\n",
              "      <td>10</td>\n",
              "      <td>10</td>\n",
              "      <td>1829</td>\n",
              "    </tr>\n",
              "  </tbody>\n",
              "</table>\n",
              "</div>\n",
              "      <button class=\"colab-df-convert\" onclick=\"convertToInteractive('df-9d312d19-083b-40b3-9964-8c822ac603eb')\"\n",
              "              title=\"Convert this dataframe to an interactive table.\"\n",
              "              style=\"display:none;\">\n",
              "        \n",
              "  <svg xmlns=\"http://www.w3.org/2000/svg\" height=\"24px\"viewBox=\"0 0 24 24\"\n",
              "       width=\"24px\">\n",
              "    <path d=\"M0 0h24v24H0V0z\" fill=\"none\"/>\n",
              "    <path d=\"M18.56 5.44l.94 2.06.94-2.06 2.06-.94-2.06-.94-.94-2.06-.94 2.06-2.06.94zm-11 1L8.5 8.5l.94-2.06 2.06-.94-2.06-.94L8.5 2.5l-.94 2.06-2.06.94zm10 10l.94 2.06.94-2.06 2.06-.94-2.06-.94-.94-2.06-.94 2.06-2.06.94z\"/><path d=\"M17.41 7.96l-1.37-1.37c-.4-.4-.92-.59-1.43-.59-.52 0-1.04.2-1.43.59L10.3 9.45l-7.72 7.72c-.78.78-.78 2.05 0 2.83L4 21.41c.39.39.9.59 1.41.59.51 0 1.02-.2 1.41-.59l7.78-7.78 2.81-2.81c.8-.78.8-2.07 0-2.86zM5.41 20L4 18.59l7.72-7.72 1.47 1.35L5.41 20z\"/>\n",
              "  </svg>\n",
              "      </button>\n",
              "      \n",
              "  <style>\n",
              "    .colab-df-container {\n",
              "      display:flex;\n",
              "      flex-wrap:wrap;\n",
              "      gap: 12px;\n",
              "    }\n",
              "\n",
              "    .colab-df-convert {\n",
              "      background-color: #E8F0FE;\n",
              "      border: none;\n",
              "      border-radius: 50%;\n",
              "      cursor: pointer;\n",
              "      display: none;\n",
              "      fill: #1967D2;\n",
              "      height: 32px;\n",
              "      padding: 0 0 0 0;\n",
              "      width: 32px;\n",
              "    }\n",
              "\n",
              "    .colab-df-convert:hover {\n",
              "      background-color: #E2EBFA;\n",
              "      box-shadow: 0px 1px 2px rgba(60, 64, 67, 0.3), 0px 1px 3px 1px rgba(60, 64, 67, 0.15);\n",
              "      fill: #174EA6;\n",
              "    }\n",
              "\n",
              "    [theme=dark] .colab-df-convert {\n",
              "      background-color: #3B4455;\n",
              "      fill: #D2E3FC;\n",
              "    }\n",
              "\n",
              "    [theme=dark] .colab-df-convert:hover {\n",
              "      background-color: #434B5C;\n",
              "      box-shadow: 0px 1px 3px 1px rgba(0, 0, 0, 0.15);\n",
              "      filter: drop-shadow(0px 1px 2px rgba(0, 0, 0, 0.3));\n",
              "      fill: #FFFFFF;\n",
              "    }\n",
              "  </style>\n",
              "\n",
              "      <script>\n",
              "        const buttonEl =\n",
              "          document.querySelector('#df-9d312d19-083b-40b3-9964-8c822ac603eb button.colab-df-convert');\n",
              "        buttonEl.style.display =\n",
              "          google.colab.kernel.accessAllowed ? 'block' : 'none';\n",
              "\n",
              "        async function convertToInteractive(key) {\n",
              "          const element = document.querySelector('#df-9d312d19-083b-40b3-9964-8c822ac603eb');\n",
              "          const dataTable =\n",
              "            await google.colab.kernel.invokeFunction('convertToInteractive',\n",
              "                                                     [key], {});\n",
              "          if (!dataTable) return;\n",
              "\n",
              "          const docLinkHtml = 'Like what you see? Visit the ' +\n",
              "            '<a target=\"_blank\" href=https://colab.research.google.com/notebooks/data_table.ipynb>data table notebook</a>'\n",
              "            + ' to learn more about interactive tables.';\n",
              "          element.innerHTML = '';\n",
              "          dataTable['output_type'] = 'display_data';\n",
              "          await google.colab.output.renderOutput(dataTable, element);\n",
              "          const docLink = document.createElement('div');\n",
              "          docLink.innerHTML = docLinkHtml;\n",
              "          element.appendChild(docLink);\n",
              "        }\n",
              "      </script>\n",
              "    </div>\n",
              "  </div>\n",
              "  "
            ]
          },
          "metadata": {},
          "execution_count": 109
        }
      ]
    },
    {
      "cell_type": "code",
      "source": [
        "age_grouped_data = data.groupby('YearBuilt')['SalePrice'].sum()\n",
        "age_grouped_data"
      ],
      "metadata": {
        "id": "81AgJmRG0vR3",
        "colab": {
          "base_uri": "https://localhost:8080/"
        },
        "outputId": "82b0e200-7b37-451f-f4ef-747d1f9bd394"
      },
      "execution_count": 110,
      "outputs": [
        {
          "output_type": "execute_result",
          "data": {
            "text/plain": [
              "YearBuilt\n",
              "1799.0       500000\n",
              "1832.0      1550000\n",
              "1870.0      1134900\n",
              "1880.0        80000\n",
              "1890.0       617500\n",
              "            ...    \n",
              "2013.0    119982160\n",
              "2014.0    189258629\n",
              "2015.0    280238488\n",
              "2016.0    217806395\n",
              "2017.0      5456548\n",
              "Name: SalePrice, Length: 127, dtype: int64"
            ]
          },
          "metadata": {},
          "execution_count": 110
        }
      ]
    },
    {
      "cell_type": "code",
      "source": [
        "sns.lineplot(x=age_grouped_data.index, y=age_grouped_data.values)"
      ],
      "metadata": {
        "id": "91LW4FgR0ve_",
        "colab": {
          "base_uri": "https://localhost:8080/",
          "height": 313
        },
        "outputId": "b8fcf9a5-2321-46e8-817a-fb24ca6b645e"
      },
      "execution_count": 111,
      "outputs": [
        {
          "output_type": "execute_result",
          "data": {
            "text/plain": [
              "<matplotlib.axes._subplots.AxesSubplot at 0x7f0e4ed2a710>"
            ]
          },
          "metadata": {},
          "execution_count": 111
        },
        {
          "output_type": "display_data",
          "data": {
            "text/plain": [
              "<Figure size 432x288 with 1 Axes>"
            ],
            "image/png": "[encoded data removed]"
          },
          "metadata": {}
        }
      ]
    },
    {
      "cell_type": "code",
      "source": [
        "sns.lineplot(y=age_grouped_data.index, x=age_grouped_data.values)"
      ],
      "metadata": {
        "id": "cnp-ohhxFQY6",
        "colab": {
          "base_uri": "https://localhost:8080/",
          "height": 298
        },
        "outputId": "6398e344-1901-467d-9e38-ea8fbda21afd"
      },
      "execution_count": 112,
      "outputs": [
        {
          "output_type": "execute_result",
          "data": {
            "text/plain": [
              "<matplotlib.axes._subplots.AxesSubplot at 0x7f0e4f6f33d0>"
            ]
          },
          "metadata": {},
          "execution_count": 112
        },
        {
          "output_type": "display_data",
          "data": {
            "text/plain": [
              "<Figure size 432x288 with 1 Axes>"
            ],
            "image/png": "[encoded data removed]"
          },
          "metadata": {}
        }
      ]
    },
    {
      "cell_type": "markdown",
      "source": [
        "From the above charts it definitely seems that the houses built during between 1950 and 1960 have peaked a lot. The peak is very high compared to other years, but there isn't any continuing trend to showcase that age has always affected the strength. "
      ],
      "metadata": {
        "id": "NQRVRDmbqDzG"
      }
    },
    {
      "cell_type": "markdown",
      "source": [
        "**6. Have the number of rooms in the house affected the price?**\n"
      ],
      "metadata": {
        "id": "37H5ILObQk09"
      }
    },
    {
      "cell_type": "code",
      "source": [
        "data['TotalRooms'] = data['Bedrooms'] + data['FullBathroom'] + data['HalfBathroom']\n",
        "data['TotalRooms']"
      ],
      "metadata": {
        "id": "eCxmhd16S4rq",
        "colab": {
          "base_uri": "https://localhost:8080/"
        },
        "outputId": "b038342a-9ceb-49d2-8376-66a1d175c49b"
      },
      "execution_count": 113,
      "outputs": [
        {
          "output_type": "execute_result",
          "data": {
            "text/plain": [
              "0        6.000000\n",
              "1        8.000000\n",
              "2        7.000000\n",
              "3        6.000000\n",
              "4        7.000000\n",
              "           ...   \n",
              "56472    5.259848\n",
              "56473    5.259848\n",
              "56474    5.259848\n",
              "56475    5.259848\n",
              "56476    5.259848\n",
              "Name: TotalRooms, Length: 56477, dtype: float64"
            ]
          },
          "metadata": {},
          "execution_count": 113
        }
      ]
    },
    {
      "cell_type": "code",
      "source": [
        "rooms_grouped_data = data.groupby('TotalRooms')['SalePrice'].sum()\n",
        "rooms_grouped_data"
      ],
      "metadata": {
        "id": "MVojXCRWaprQ",
        "colab": {
          "base_uri": "https://localhost:8080/"
        },
        "outputId": "5f857d0f-df00-496c-8319-b4dd75e901b8"
      },
      "execution_count": 114,
      "outputs": [
        {
          "output_type": "execute_result",
          "data": {
            "text/plain": [
              "TotalRooms\n",
              "0.000000        19801900\n",
              "1.000000         2314900\n",
              "2.000000        14529298\n",
              "3.000000       530095852\n",
              "3.089912        67122950\n",
              "3.283921          132000\n",
              "4.000000       751991475\n",
              "4.283921         1158600\n",
              "5.000000      1533833898\n",
              "5.169936           95000\n",
              "5.259848     11776688834\n",
              "5.283921         7949500\n",
              "6.000000      1272162799\n",
              "6.283921        14557508\n",
              "7.000000       769327234\n",
              "7.283921         4509000\n",
              "8.000000       594821278\n",
              "8.089912          385000\n",
              "8.283921         2482000\n",
              "9.000000       396283084\n",
              "10.000000      253961196\n",
              "11.000000      224059044\n",
              "12.000000      106080135\n",
              "13.000000       77858139\n",
              "14.000000       32615094\n",
              "15.000000        7659456\n",
              "16.000000        4400000\n",
              "17.000000        8150000\n",
              "20.000000        3300000\n",
              "22.000000        2438500\n",
              "Name: SalePrice, dtype: int64"
            ]
          },
          "metadata": {},
          "execution_count": 114
        }
      ]
    },
    {
      "cell_type": "code",
      "source": [
        "sns.barplot(x = rooms_grouped_data.index, y = rooms_grouped_data.values)"
      ],
      "metadata": {
        "id": "txs8oE50a_Vf",
        "colab": {
          "base_uri": "https://localhost:8080/",
          "height": 313
        },
        "outputId": "9636fbfb-2c76-43c9-e0df-efb9433bc964"
      },
      "execution_count": 115,
      "outputs": [
        {
          "output_type": "execute_result",
          "data": {
            "text/plain": [
              "<matplotlib.axes._subplots.AxesSubplot at 0x7f0e4ef67b50>"
            ]
          },
          "metadata": {},
          "execution_count": 115
        },
        {
          "output_type": "display_data",
          "data": {
            "text/plain": [
              "<Figure size 432x288 with 1 Axes>"
            ],
            "image/png": "[encoded data removed]"
          },
          "metadata": {}
        }
      ]
    },
    {
      "cell_type": "code",
      "source": [
        "sns.scatterplot(x=rooms_grouped_data.index, y=rooms_grouped_data.values)"
      ],
      "metadata": {
        "id": "QdWHA1gZbT1D",
        "colab": {
          "base_uri": "https://localhost:8080/",
          "height": 313
        },
        "outputId": "c753d8b7-44b6-41db-bd00-9feca7c848b5"
      },
      "execution_count": 116,
      "outputs": [
        {
          "output_type": "execute_result",
          "data": {
            "text/plain": [
              "<matplotlib.axes._subplots.AxesSubplot at 0x7f0e4ef88590>"
            ]
          },
          "metadata": {},
          "execution_count": 116
        },
        {
          "output_type": "display_data",
          "data": {
            "text/plain": [
              "<Figure size 432x288 with 1 Axes>"
            ],
            "image/png": "[encoded data removed]"
          },
          "metadata": {}
        }
      ]
    },
    {
      "cell_type": "code",
      "source": [
        "math.trunc(data['TotalRooms'].mean())"
      ],
      "metadata": {
        "id": "N1JL03wzb_bM",
        "colab": {
          "base_uri": "https://localhost:8080/"
        },
        "outputId": "3066b8e1-2eff-4bba-dc27-0a91b1e6aef8"
      },
      "execution_count": 117,
      "outputs": [
        {
          "output_type": "execute_result",
          "data": {
            "text/plain": [
              "5"
            ]
          },
          "metadata": {},
          "execution_count": 117
        }
      ]
    },
    {
      "cell_type": "markdown",
      "source": [
        "Here, we make an interesting obervation that the sale prices of houses with 5 rooms is the maximum by a large extent. And, in fact, the the number of houses around 5 also show a considerably high sales price. Since, the mean of all of the number of houses is also 5, it's interesting to note that sales prices tend to be high with an average number of rooms in a house. "
      ],
      "metadata": {
        "id": "w5lX7TPKdIid"
      }
    },
    {
      "cell_type": "markdown",
      "source": [
        "**7. Does the size of the property (no. of acres) have any influence in its price?**\n"
      ],
      "metadata": {
        "id": "wivjL6_dQzJ9"
      }
    },
    {
      "cell_type": "code",
      "source": [
        "property_grouped_data=data.groupby('Acre')['SalePrice'].sum()\n",
        "property_grouped_data"
      ],
      "metadata": {
        "id": "EuKzLfhyS5MO",
        "colab": {
          "base_uri": "https://localhost:8080/"
        },
        "outputId": "b636dbd9-eaad-484a-feb5-c37d68e6c689"
      },
      "execution_count": 118,
      "outputs": [
        {
          "output_type": "execute_result",
          "data": {
            "text/plain": [
              "Acre\n",
              "0.01        885600\n",
              "0.02       1588500\n",
              "0.03      10632500\n",
              "0.04       1883650\n",
              "0.05       1899200\n",
              "            ...   \n",
              "47.50       499900\n",
              "51.34       500000\n",
              "62.96       580000\n",
              "68.79        78000\n",
              "160.06     3235790\n",
              "Name: SalePrice, Length: 520, dtype: int64"
            ]
          },
          "metadata": {},
          "execution_count": 118
        }
      ]
    },
    {
      "cell_type": "code",
      "source": [
        "plot = sns.lineplot(x=property_grouped_data.index, y=property_grouped_data.values)"
      ],
      "metadata": {
        "id": "iaG7q6B0d9-6",
        "colab": {
          "base_uri": "https://localhost:8080/",
          "height": 296
        },
        "outputId": "f92229e3-c735-44c0-9c15-67880186572c"
      },
      "execution_count": 119,
      "outputs": [
        {
          "output_type": "display_data",
          "data": {
            "text/plain": [
              "<Figure size 432x288 with 1 Axes>"
            ],
            "image/png": "[encoded data removed]"
          },
          "metadata": {}
        }
      ]
    },
    {
      "cell_type": "code",
      "source": [
        "plot = sns.lineplot(x=property_grouped_data.index, y=property_grouped_data.values)\n",
        "plot.set(xlim=(0,12))"
      ],
      "metadata": {
        "id": "O2DAH-EfGeMf",
        "colab": {
          "base_uri": "https://localhost:8080/",
          "height": 313
        },
        "outputId": "14208dd2-63de-479a-fdaf-c4734b7f3a61"
      },
      "execution_count": 120,
      "outputs": [
        {
          "output_type": "execute_result",
          "data": {
            "text/plain": [
              "[(0.0, 12.0)]"
            ]
          },
          "metadata": {},
          "execution_count": 120
        },
        {
          "output_type": "display_data",
          "data": {
            "text/plain": [
              "<Figure size 432x288 with 1 Axes>"
            ],
            "image/png": "[encoded data removed]"
          },
          "metadata": {}
        }
      ]
    },
    {
      "cell_type": "code",
      "source": [
        "plot = sns.lineplot(x=property_grouped_data.index, y=property_grouped_data.values)\n",
        "plot.set(xlim=(0,1))"
      ],
      "metadata": {
        "id": "upkPkh1DGeRP",
        "colab": {
          "base_uri": "https://localhost:8080/",
          "height": 313
        },
        "outputId": "1a24e5fe-15a3-45b8-b146-5810550ad10d"
      },
      "execution_count": 121,
      "outputs": [
        {
          "output_type": "execute_result",
          "data": {
            "text/plain": [
              "[(0.0, 1.0)]"
            ]
          },
          "metadata": {},
          "execution_count": 121
        },
        {
          "output_type": "display_data",
          "data": {
            "text/plain": [
              "<Figure size 432x288 with 1 Axes>"
            ],
            "image/png": "[encoded data removed]"
          },
          "metadata": {}
        }
      ]
    },
    {
      "cell_type": "code",
      "source": [
        "round(data['Acre'].mean(), 2)"
      ],
      "metadata": {
        "colab": {
          "base_uri": "https://localhost:8080/"
        },
        "id": "3PYfV-tlqv7g",
        "outputId": "823b6462-c9c4-42da-beb0-b6b9f86060e6"
      },
      "execution_count": 122,
      "outputs": [
        {
          "output_type": "execute_result",
          "data": {
            "text/plain": [
              "0.5"
            ]
          },
          "metadata": {},
          "execution_count": 122
        }
      ]
    },
    {
      "cell_type": "markdown",
      "source": [
        "Though there isn't any repeating trend, it is evident from the above line chart that the sale price is at its highest when the size of the property is near or equal to the mean size, that is 0.5\n",
        "\n"
      ],
      "metadata": {
        "id": "2bM8_TLTqsEt"
      }
    },
    {
      "cell_type": "markdown",
      "source": [
        "**8. Are houses located in specific pin numbers expensive over the others?**\n"
      ],
      "metadata": {
        "id": "NP7o_f5xQzSE"
      }
    },
    {
      "cell_type": "code",
      "source": [
        "pin_grouped_data = data.groupby('Pin')['SalePrice'].sum()\n",
        "pin_grouped_data"
      ],
      "metadata": {
        "id": "USypeA8fS5rv",
        "colab": {
          "base_uri": "https://localhost:8080/"
        },
        "outputId": "3019bc41-8304-4f16-9b71-0a27006c0cc4"
      },
      "execution_count": 123,
      "outputs": [
        {
          "output_type": "execute_result",
          "data": {
            "text/plain": [
              "Pin\n",
              "  12    195000\n",
              "  AC    450000\n",
              "  HA     19000\n",
              "  LO    575000\n",
              "  MA    591800\n",
              "         ...  \n",
              "STRA    320000\n",
              "SUNN    398500\n",
              "TYNE    315000\n",
              "WASH    379800\n",
              "WEST    435000\n",
              "Name: SalePrice, Length: 6530, dtype: int64"
            ]
          },
          "metadata": {},
          "execution_count": 123
        }
      ]
    },
    {
      "cell_type": "markdown",
      "source": [
        "**9. How have house prices changed in the 21st century as supposed to 20th century.**"
      ],
      "metadata": {
        "id": "dSfOocK5Qzad"
      }
    },
    {
      "cell_type": "code",
      "source": [
        "century = data[data['YearBuilt']>1900]\n",
        "century1 = century[century['YearBuilt']>=2000]\n",
        "century0 = century[century['YearBuilt']<2000]"
      ],
      "metadata": {
        "id": "soumA6uksm67"
      },
      "execution_count": 124,
      "outputs": []
    },
    {
      "cell_type": "code",
      "source": [
        "century1"
      ],
      "metadata": {
        "colab": {
          "base_uri": "https://localhost:8080/",
          "height": 852
        },
        "id": "7VTTLcxZj2pr",
        "outputId": "69e366c1-5409-42de-ba6e-118b85b8fb85"
      },
      "execution_count": 125,
      "outputs": [
        {
          "output_type": "execute_result",
          "data": {
            "text/plain": [
              "       UniqueID           LandUse                          PropertyAddress  \\\n",
              "8          36500    SINGLE FAMILY    1428  SPRINGFIELD HWY, GOODLETTSVILLE   \n",
              "13          4512    SINGLE FAMILY        629  GAYLEMORE DR, GOODLETTSVILLE   \n",
              "30         13354    SINGLE FAMILY    1412  SPRINGFIELD HWY, GOODLETTSVILLE   \n",
              "60          8903  VACANT RES LAND        332  MONCRIEF AVE, GOODLETTSVILLE   \n",
              "61         16921    SINGLE FAMILY        332  MONCRIEF AVE, GOODLETTSVILLE   \n",
              "...          ...              ...                                      ...   \n",
              "54080      35530    SINGLE FAMILY          4932  HICKORY WOODS  E, ANTIOCH   \n",
              "54083      21899    SINGLE FAMILY  4480  LAVERGNE COUCHVILLE PIKE, ANTIOCH   \n",
              "54084      21900    SINGLE FAMILY  4480  LAVERGNE COUCHVILLE PIKE, ANTIOCH   \n",
              "54085      33753    SINGLE FAMILY  4480  LAVERGNE COUCHVILLE PIKE, ANTIOCH   \n",
              "54214      23448    SINGLE FAMILY            105  HOLT HILLS RD, NASHVILLE   \n",
              "\n",
              "        SaleDate  SalePrice  Acre  LandValue  BuildingValue  TotalValue  \\\n",
              "8     2015-08-14     285000  1.67    45400.0       176900.0    222300.0   \n",
              "13    2013-06-07     189900  1.07    40000.0       203600.0    243600.0   \n",
              "30    2014-03-18     359900  1.17    40000.0       333300.0    373300.0   \n",
              "60    2013-10-25      25000  0.39    24000.0       175900.0    199900.0   \n",
              "61    2014-06-24     219900  0.39    24000.0       175900.0    199900.0   \n",
              "...          ...        ...   ...        ...            ...         ...   \n",
              "54080 2015-07-27     163000  0.23    25000.0       123300.0    148300.0   \n",
              "54083 2014-09-03      14000  0.31    25000.0       157500.0    182500.0   \n",
              "54084 2014-09-24      23000  0.31    25000.0       157500.0    182500.0   \n",
              "54085 2015-06-30     219100  0.31    25000.0       157500.0    182500.0   \n",
              "54214 2014-11-12     259000  0.46    59000.0       194000.0    253000.0   \n",
              "\n",
              "       YearBuilt  Bedrooms  FullBathroom  HalfBathroom  Year  Month  Day  \\\n",
              "8         2000.0       3.0           2.0           1.0  2015      8   14   \n",
              "13        2006.0       4.0           4.0           0.0  2013      6    7   \n",
              "30        2000.0       4.0           4.0           1.0  2014      3   18   \n",
              "60        2014.0       3.0           2.0           0.0  2013     10   25   \n",
              "61        2014.0       3.0           2.0           0.0  2014      6   24   \n",
              "...          ...       ...           ...           ...   ...    ...  ...   \n",
              "54080     2000.0       3.0           2.0           0.0  2015      7   27   \n",
              "54083     2015.0       3.0           2.0           1.0  2014      9    3   \n",
              "54084     2015.0       3.0           2.0           1.0  2014      9   24   \n",
              "54085     2015.0       3.0           2.0           1.0  2015      6   30   \n",
              "54214     2001.0       3.0           2.0           1.0  2014     11   12   \n",
              "\n",
              "        Pin  TotalRooms  \n",
              "8      1428         6.0  \n",
              "13     629          8.0  \n",
              "30     1412         9.0  \n",
              "60     332          5.0  \n",
              "61     332          5.0  \n",
              "...     ...         ...  \n",
              "54080  4932         5.0  \n",
              "54083  4480         6.0  \n",
              "54084  4480         6.0  \n",
              "54085  4480         6.0  \n",
              "54214  105          6.0  \n",
              "\n",
              "[3081 rows x 18 columns]"
            ],
            "text/html": [
              "\n",
              "  <div id=\"df-f39aec62-c26f-414b-8a71-f4a511754a4c\">\n",
              "    <div class=\"colab-df-container\">\n",
              "      <div>\n",
              "<style scoped>\n",
              "    .dataframe tbody tr th:only-of-type {\n",
              "        vertical-align: middle;\n",
              "    }\n",
              "\n",
              "    .dataframe tbody tr th {\n",
              "        vertical-align: top;\n",
              "    }\n",
              "\n",
              "    .dataframe thead th {\n",
              "        text-align: right;\n",
              "    }\n",
              "</style>\n",
              "<table border=\"1\" class=\"dataframe\">\n",
              "  <thead>\n",
              "    <tr style=\"text-align: right;\">\n",
              "      <th></th>\n",
              "      <th>UniqueID</th>\n",
              "      <th>LandUse</th>\n",
              "      <th>PropertyAddress</th>\n",
              "      <th>SaleDate</th>\n",
              "      <th>SalePrice</th>\n",
              "      <th>Acre</th>\n",
              "      <th>LandValue</th>\n",
              "      <th>BuildingValue</th>\n",
              "      <th>TotalValue</th>\n",
              "      <th>YearBuilt</th>\n",
              "      <th>Bedrooms</th>\n",
              "      <th>FullBathroom</th>\n",
              "      <th>HalfBathroom</th>\n",
              "      <th>Year</th>\n",
              "      <th>Month</th>\n",
              "      <th>Day</th>\n",
              "      <th>Pin</th>\n",
              "      <th>TotalRooms</th>\n",
              "    </tr>\n",
              "  </thead>\n",
              "  <tbody>\n",
              "    <tr>\n",
              "      <th>8</th>\n",
              "      <td>36500</td>\n",
              "      <td>SINGLE FAMILY</td>\n",
              "      <td>1428  SPRINGFIELD HWY, GOODLETTSVILLE</td>\n",
              "      <td>2015-08-14</td>\n",
              "      <td>285000</td>\n",
              "      <td>1.67</td>\n",
              "      <td>45400.0</td>\n",
              "      <td>176900.0</td>\n",
              "      <td>222300.0</td>\n",
              "      <td>2000.0</td>\n",
              "      <td>3.0</td>\n",
              "      <td>2.0</td>\n",
              "      <td>1.0</td>\n",
              "      <td>2015</td>\n",
              "      <td>8</td>\n",
              "      <td>14</td>\n",
              "      <td>1428</td>\n",
              "      <td>6.0</td>\n",
              "    </tr>\n",
              "    <tr>\n",
              "      <th>13</th>\n",
              "      <td>4512</td>\n",
              "      <td>SINGLE FAMILY</td>\n",
              "      <td>629  GAYLEMORE DR, GOODLETTSVILLE</td>\n",
              "      <td>2013-06-07</td>\n",
              "      <td>189900</td>\n",
              "      <td>1.07</td>\n",
              "      <td>40000.0</td>\n",
              "      <td>203600.0</td>\n",
              "      <td>243600.0</td>\n",
              "      <td>2006.0</td>\n",
              "      <td>4.0</td>\n",
              "      <td>4.0</td>\n",
              "      <td>0.0</td>\n",
              "      <td>2013</td>\n",
              "      <td>6</td>\n",
              "      <td>7</td>\n",
              "      <td>629</td>\n",
              "      <td>8.0</td>\n",
              "    </tr>\n",
              "    <tr>\n",
              "      <th>30</th>\n",
              "      <td>13354</td>\n",
              "      <td>SINGLE FAMILY</td>\n",
              "      <td>1412  SPRINGFIELD HWY, GOODLETTSVILLE</td>\n",
              "      <td>2014-03-18</td>\n",
              "      <td>359900</td>\n",
              "      <td>1.17</td>\n",
              "      <td>40000.0</td>\n",
              "      <td>333300.0</td>\n",
              "      <td>373300.0</td>\n",
              "      <td>2000.0</td>\n",
              "      <td>4.0</td>\n",
              "      <td>4.0</td>\n",
              "      <td>1.0</td>\n",
              "      <td>2014</td>\n",
              "      <td>3</td>\n",
              "      <td>18</td>\n",
              "      <td>1412</td>\n",
              "      <td>9.0</td>\n",
              "    </tr>\n",
              "    <tr>\n",
              "      <th>60</th>\n",
              "      <td>8903</td>\n",
              "      <td>VACANT RES LAND</td>\n",
              "      <td>332  MONCRIEF AVE, GOODLETTSVILLE</td>\n",
              "      <td>2013-10-25</td>\n",
              "      <td>25000</td>\n",
              "      <td>0.39</td>\n",
              "      <td>24000.0</td>\n",
              "      <td>175900.0</td>\n",
              "      <td>199900.0</td>\n",
              "      <td>2014.0</td>\n",
              "      <td>3.0</td>\n",
              "      <td>2.0</td>\n",
              "      <td>0.0</td>\n",
              "      <td>2013</td>\n",
              "      <td>10</td>\n",
              "      <td>25</td>\n",
              "      <td>332</td>\n",
              "      <td>5.0</td>\n",
              "    </tr>\n",
              "    <tr>\n",
              "      <th>61</th>\n",
              "      <td>16921</td>\n",
              "      <td>SINGLE FAMILY</td>\n",
              "      <td>332  MONCRIEF AVE, GOODLETTSVILLE</td>\n",
              "      <td>2014-06-24</td>\n",
              "      <td>219900</td>\n",
              "      <td>0.39</td>\n",
              "      <td>24000.0</td>\n",
              "      <td>175900.0</td>\n",
              "      <td>199900.0</td>\n",
              "      <td>2014.0</td>\n",
              "      <td>3.0</td>\n",
              "      <td>2.0</td>\n",
              "      <td>0.0</td>\n",
              "      <td>2014</td>\n",
              "      <td>6</td>\n",
              "      <td>24</td>\n",
              "      <td>332</td>\n",
              "      <td>5.0</td>\n",
              "    </tr>\n",
              "    <tr>\n",
              "      <th>...</th>\n",
              "      <td>...</td>\n",
              "      <td>...</td>\n",
              "      <td>...</td>\n",
              "      <td>...</td>\n",
              "      <td>...</td>\n",
              "      <td>...</td>\n",
              "      <td>...</td>\n",
              "      <td>...</td>\n",
              "      <td>...</td>\n",
              "      <td>...</td>\n",
              "      <td>...</td>\n",
              "      <td>...</td>\n",
              "      <td>...</td>\n",
              "      <td>...</td>\n",
              "      <td>...</td>\n",
              "      <td>...</td>\n",
              "      <td>...</td>\n",
              "      <td>...</td>\n",
              "    </tr>\n",
              "    <tr>\n",
              "      <th>54080</th>\n",
              "      <td>35530</td>\n",
              "      <td>SINGLE FAMILY</td>\n",
              "      <td>4932  HICKORY WOODS  E, ANTIOCH</td>\n",
              "      <td>2015-07-27</td>\n",
              "      <td>163000</td>\n",
              "      <td>0.23</td>\n",
              "      <td>25000.0</td>\n",
              "      <td>123300.0</td>\n",
              "      <td>148300.0</td>\n",
              "      <td>2000.0</td>\n",
              "      <td>3.0</td>\n",
              "      <td>2.0</td>\n",
              "      <td>0.0</td>\n",
              "      <td>2015</td>\n",
              "      <td>7</td>\n",
              "      <td>27</td>\n",
              "      <td>4932</td>\n",
              "      <td>5.0</td>\n",
              "    </tr>\n",
              "    <tr>\n",
              "      <th>54083</th>\n",
              "      <td>21899</td>\n",
              "      <td>SINGLE FAMILY</td>\n",
              "      <td>4480  LAVERGNE COUCHVILLE PIKE, ANTIOCH</td>\n",
              "      <td>2014-09-03</td>\n",
              "      <td>14000</td>\n",
              "      <td>0.31</td>\n",
              "      <td>25000.0</td>\n",
              "      <td>157500.0</td>\n",
              "      <td>182500.0</td>\n",
              "      <td>2015.0</td>\n",
              "      <td>3.0</td>\n",
              "      <td>2.0</td>\n",
              "      <td>1.0</td>\n",
              "      <td>2014</td>\n",
              "      <td>9</td>\n",
              "      <td>3</td>\n",
              "      <td>4480</td>\n",
              "      <td>6.0</td>\n",
              "    </tr>\n",
              "    <tr>\n",
              "      <th>54084</th>\n",
              "      <td>21900</td>\n",
              "      <td>SINGLE FAMILY</td>\n",
              "      <td>4480  LAVERGNE COUCHVILLE PIKE, ANTIOCH</td>\n",
              "      <td>2014-09-24</td>\n",
              "      <td>23000</td>\n",
              "      <td>0.31</td>\n",
              "      <td>25000.0</td>\n",
              "      <td>157500.0</td>\n",
              "      <td>182500.0</td>\n",
              "      <td>2015.0</td>\n",
              "      <td>3.0</td>\n",
              "      <td>2.0</td>\n",
              "      <td>1.0</td>\n",
              "      <td>2014</td>\n",
              "      <td>9</td>\n",
              "      <td>24</td>\n",
              "      <td>4480</td>\n",
              "      <td>6.0</td>\n",
              "    </tr>\n",
              "    <tr>\n",
              "      <th>54085</th>\n",
              "      <td>33753</td>\n",
              "      <td>SINGLE FAMILY</td>\n",
              "      <td>4480  LAVERGNE COUCHVILLE PIKE, ANTIOCH</td>\n",
              "      <td>2015-06-30</td>\n",
              "      <td>219100</td>\n",
              "      <td>0.31</td>\n",
              "      <td>25000.0</td>\n",
              "      <td>157500.0</td>\n",
              "      <td>182500.0</td>\n",
              "      <td>2015.0</td>\n",
              "      <td>3.0</td>\n",
              "      <td>2.0</td>\n",
              "      <td>1.0</td>\n",
              "      <td>2015</td>\n",
              "      <td>6</td>\n",
              "      <td>30</td>\n",
              "      <td>4480</td>\n",
              "      <td>6.0</td>\n",
              "    </tr>\n",
              "    <tr>\n",
              "      <th>54214</th>\n",
              "      <td>23448</td>\n",
              "      <td>SINGLE FAMILY</td>\n",
              "      <td>105  HOLT HILLS RD, NASHVILLE</td>\n",
              "      <td>2014-11-12</td>\n",
              "      <td>259000</td>\n",
              "      <td>0.46</td>\n",
              "      <td>59000.0</td>\n",
              "      <td>194000.0</td>\n",
              "      <td>253000.0</td>\n",
              "      <td>2001.0</td>\n",
              "      <td>3.0</td>\n",
              "      <td>2.0</td>\n",
              "      <td>1.0</td>\n",
              "      <td>2014</td>\n",
              "      <td>11</td>\n",
              "      <td>12</td>\n",
              "      <td>105</td>\n",
              "      <td>6.0</td>\n",
              "    </tr>\n",
              "  </tbody>\n",
              "</table>\n",
              "<p>3081 rows × 18 columns</p>\n",
              "</div>\n",
              "      <button class=\"colab-df-convert\" onclick=\"convertToInteractive('df-f39aec62-c26f-414b-8a71-f4a511754a4c')\"\n",
              "              title=\"Convert this dataframe to an interactive table.\"\n",
              "              style=\"display:none;\">\n",
              "        \n",
              "  <svg xmlns=\"http://www.w3.org/2000/svg\" height=\"24px\"viewBox=\"0 0 24 24\"\n",
              "       width=\"24px\">\n",
              "    <path d=\"M0 0h24v24H0V0z\" fill=\"none\"/>\n",
              "    <path d=\"M18.56 5.44l.94 2.06.94-2.06 2.06-.94-2.06-.94-.94-2.06-.94 2.06-2.06.94zm-11 1L8.5 8.5l.94-2.06 2.06-.94-2.06-.94L8.5 2.5l-.94 2.06-2.06.94zm10 10l.94 2.06.94-2.06 2.06-.94-2.06-.94-.94-2.06-.94 2.06-2.06.94z\"/><path d=\"M17.41 7.96l-1.37-1.37c-.4-.4-.92-.59-1.43-.59-.52 0-1.04.2-1.43.59L10.3 9.45l-7.72 7.72c-.78.78-.78 2.05 0 2.83L4 21.41c.39.39.9.59 1.41.59.51 0 1.02-.2 1.41-.59l7.78-7.78 2.81-2.81c.8-.78.8-2.07 0-2.86zM5.41 20L4 18.59l7.72-7.72 1.47 1.35L5.41 20z\"/>\n",
              "  </svg>\n",
              "      </button>\n",
              "      \n",
              "  <style>\n",
              "    .colab-df-container {\n",
              "      display:flex;\n",
              "      flex-wrap:wrap;\n",
              "      gap: 12px;\n",
              "    }\n",
              "\n",
              "    .colab-df-convert {\n",
              "      background-color: #E8F0FE;\n",
              "      border: none;\n",
              "      border-radius: 50%;\n",
              "      cursor: pointer;\n",
              "      display: none;\n",
              "      fill: #1967D2;\n",
              "      height: 32px;\n",
              "      padding: 0 0 0 0;\n",
              "      width: 32px;\n",
              "    }\n",
              "\n",
              "    .colab-df-convert:hover {\n",
              "      background-color: #E2EBFA;\n",
              "      box-shadow: 0px 1px 2px rgba(60, 64, 67, 0.3), 0px 1px 3px 1px rgba(60, 64, 67, 0.15);\n",
              "      fill: #174EA6;\n",
              "    }\n",
              "\n",
              "    [theme=dark] .colab-df-convert {\n",
              "      background-color: #3B4455;\n",
              "      fill: #D2E3FC;\n",
              "    }\n",
              "\n",
              "    [theme=dark] .colab-df-convert:hover {\n",
              "      background-color: #434B5C;\n",
              "      box-shadow: 0px 1px 3px 1px rgba(0, 0, 0, 0.15);\n",
              "      filter: drop-shadow(0px 1px 2px rgba(0, 0, 0, 0.3));\n",
              "      fill: #FFFFFF;\n",
              "    }\n",
              "  </style>\n",
              "\n",
              "      <script>\n",
              "        const buttonEl =\n",
              "          document.querySelector('#df-f39aec62-c26f-414b-8a71-f4a511754a4c button.colab-df-convert');\n",
              "        buttonEl.style.display =\n",
              "          google.colab.kernel.accessAllowed ? 'block' : 'none';\n",
              "\n",
              "        async function convertToInteractive(key) {\n",
              "          const element = document.querySelector('#df-f39aec62-c26f-414b-8a71-f4a511754a4c');\n",
              "          const dataTable =\n",
              "            await google.colab.kernel.invokeFunction('convertToInteractive',\n",
              "                                                     [key], {});\n",
              "          if (!dataTable) return;\n",
              "\n",
              "          const docLinkHtml = 'Like what you see? Visit the ' +\n",
              "            '<a target=\"_blank\" href=https://colab.research.google.com/notebooks/data_table.ipynb>data table notebook</a>'\n",
              "            + ' to learn more about interactive tables.';\n",
              "          element.innerHTML = '';\n",
              "          dataTable['output_type'] = 'display_data';\n",
              "          await google.colab.output.renderOutput(dataTable, element);\n",
              "          const docLink = document.createElement('div');\n",
              "          docLink.innerHTML = docLinkHtml;\n",
              "          element.appendChild(docLink);\n",
              "        }\n",
              "      </script>\n",
              "    </div>\n",
              "  </div>\n",
              "  "
            ]
          },
          "metadata": {},
          "execution_count": 125
        }
      ]
    },
    {
      "cell_type": "code",
      "source": [
        "grouped_data_21 = century1.groupby('YearBuilt')['SalePrice'].sum()\n",
        "grouped_data_21"
      ],
      "metadata": {
        "colab": {
          "base_uri": "https://localhost:8080/"
        },
        "id": "DsERhDankEZa",
        "outputId": "55aa0a39-41d1-47b7-d01c-556b35054876"
      },
      "execution_count": 126,
      "outputs": [
        {
          "output_type": "execute_result",
          "data": {
            "text/plain": [
              "YearBuilt\n",
              "2000.0     34901984\n",
              "2001.0     18059001\n",
              "2002.0     20885705\n",
              "2003.0     21461521\n",
              "2004.0     49467077\n",
              "2005.0     61431654\n",
              "2006.0     58466851\n",
              "2007.0     65135601\n",
              "2008.0     40371556\n",
              "2009.0     32320700\n",
              "2010.0     19659522\n",
              "2011.0     24248100\n",
              "2012.0     39530301\n",
              "2013.0    119982160\n",
              "2014.0    189258629\n",
              "2015.0    280238488\n",
              "2016.0    217806395\n",
              "2017.0      5456548\n",
              "Name: SalePrice, dtype: int64"
            ]
          },
          "metadata": {},
          "execution_count": 126
        }
      ]
    },
    {
      "cell_type": "code",
      "source": [
        "grouped_data_20 = century0.groupby('YearBuilt')['SalePrice'].count()\n",
        "grouped_data_20"
      ],
      "metadata": {
        "colab": {
          "base_uri": "https://localhost:8080/"
        },
        "id": "3NiZ7SxYkhzD",
        "outputId": "dde64a12-d025-45d5-c85e-2d84fa83e076"
      },
      "execution_count": 138,
      "outputs": [
        {
          "output_type": "execute_result",
          "data": {
            "text/plain": [
              "YearBuilt\n",
              "1901.0      1\n",
              "1902.0      2\n",
              "1903.0      3\n",
              "1904.0      8\n",
              "1905.0      9\n",
              "         ... \n",
              "1995.0     84\n",
              "1996.0     97\n",
              "1997.0    138\n",
              "1998.0     87\n",
              "1999.0    123\n",
              "Name: SalePrice, Length: 100, dtype: int64"
            ]
          },
          "metadata": {},
          "execution_count": 138
        }
      ]
    },
    {
      "cell_type": "code",
      "source": [
        "sns.lineplot(x = grouped_data_20.index, y = grouped_data_20.values)"
      ],
      "metadata": {
        "colab": {
          "base_uri": "https://localhost:8080/",
          "height": 302
        },
        "id": "hRPqBZAMlSQm",
        "outputId": "877319ad-fd8e-42a1-f0d9-b02e185eaf2d"
      },
      "execution_count": 139,
      "outputs": [
        {
          "output_type": "execute_result",
          "data": {
            "text/plain": [
              "<matplotlib.axes._subplots.AxesSubplot at 0x7f0e4f5c2410>"
            ]
          },
          "metadata": {},
          "execution_count": 139
        },
        {
          "output_type": "display_data",
          "data": {
            "text/plain": [
              "<Figure size 432x288 with 1 Axes>"
            ],
            "image/png": "[encoded data removed]"
          },
          "metadata": {}
        }
      ]
    },
    {
      "cell_type": "code",
      "source": [
        "sns.lineplot(x = grouped_data_21.index, y = grouped_data_21.values)"
      ],
      "metadata": {
        "colab": {
          "base_uri": "https://localhost:8080/",
          "height": 313
        },
        "id": "xUMtYqyTmUGM",
        "outputId": "ffd46e76-db4e-4022-8bdf-ff72ad076a50"
      },
      "execution_count": 132,
      "outputs": [
        {
          "output_type": "execute_result",
          "data": {
            "text/plain": [
              "<matplotlib.axes._subplots.AxesSubplot at 0x7f0e4f7f4e50>"
            ]
          },
          "metadata": {},
          "execution_count": 132
        },
        {
          "output_type": "display_data",
          "data": {
            "text/plain": [
              "<Figure size 432x288 with 1 Axes>"
            ],
            "image/png": "[encoded data removed]"
          },
          "metadata": {}
        }
      ]
    },
    {
      "cell_type": "markdown",
      "source": [
        "20th Century\n",
        "The house prices were very low and the graph only even peaks at sometime around 1960. The rest of the prices in other years are very steep and shallow. \n",
        "\n",
        "21st Century\n",
        "There is a significant change in the graphs of the 21st and 20th century, as we can clearly observe that the sale prices have risen with the peak crossing over 2.5 whereas the peak was around 1.2 in 20th century plot. "
      ],
      "metadata": {
        "id": "PjVQN2RqmjFl"
      }
    },
    {
      "cell_type": "code",
      "source": [
        ""
      ],
      "metadata": {
        "id": "dUjwgQJDnyyx"
      },
      "execution_count": 129,
      "outputs": []
    }
  ]
}